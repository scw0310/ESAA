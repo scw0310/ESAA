{
  "nbformat": 4,
  "nbformat_minor": 0,
  "metadata": {
    "anaconda-cloud": {},
    "kernelspec": {
      "display_name": "Python [default]",
      "language": "python",
      "name": "python2"
    },
    "language_info": {
      "codemirror_mode": {
        "name": "ipython",
        "version": 2
      },
      "file_extension": ".py",
      "mimetype": "text/x-python",
      "name": "python",
      "nbconvert_exporter": "python",
      "pygments_lexer": "ipython2",
      "version": "2.7.12"
    },
    "colab": {
      "provenance": []
    }
  },
  "cells": [
    {
      "cell_type": "markdown",
      "metadata": {
        "id": "on6xgUECVXIz"
      },
      "source": [
        "# Apple Stock"
      ]
    },
    {
      "cell_type": "markdown",
      "metadata": {
        "id": "yRb05F3RVXJI"
      },
      "source": [
        "### Introduction:\n",
        "\n",
        "We are going to use Apple's stock price.\n",
        "\n",
        "\n",
        "### Step 1. Import the necessary libraries"
      ]
    },
    {
      "cell_type": "code",
      "metadata": {
        "id": "4g8N0RkRVXJN"
      },
      "source": [
        "import pandas as pd\n",
        "import numpy as np"
      ],
      "execution_count": null,
      "outputs": []
    },
    {
      "cell_type": "markdown",
      "metadata": {
        "id": "PadQE1mnVXJS"
      },
      "source": [
        "### Step 2. Import the dataset from this [address](https://raw.githubusercontent.com/guipsamora/pandas_exercises/master/09_Time_Series/Apple_Stock/appl_1980_2014.csv)"
      ]
    },
    {
      "cell_type": "code",
      "metadata": {
        "collapsed": true,
        "id": "jFE0126tVXJU"
      },
      "source": [
        "data = pd.read_csv('https://raw.githubusercontent.com/guipsamora/pandas_exercises/master/09_Time_Series/Apple_Stock/appl_1980_2014.csv',sep=',')"
      ],
      "execution_count": null,
      "outputs": []
    },
    {
      "cell_type": "markdown",
      "metadata": {
        "id": "0szUfJRXVXJY"
      },
      "source": [
        "### Step 3. Assign it to a variable apple"
      ]
    },
    {
      "cell_type": "code",
      "metadata": {
        "id": "-OGkJEZNVXJa"
      },
      "source": [
        "apple = data"
      ],
      "execution_count": null,
      "outputs": []
    },
    {
      "cell_type": "markdown",
      "metadata": {
        "id": "TBxUymvFVXJc"
      },
      "source": [
        "### Step 4.  Check out the type of the columns"
      ]
    },
    {
      "cell_type": "code",
      "metadata": {
        "id": "hh_Qct_DVXJg",
        "colab": {
          "base_uri": "https://localhost:8080/",
          "height": 358
        },
        "outputId": "9be5a944-1e31-4aa9-88ef-386b6a5698c5"
      },
      "source": [
        "apple.dtypes"
      ],
      "execution_count": null,
      "outputs": [
        {
          "output_type": "execute_result",
          "data": {
            "text/plain": [
              "Date          object\n",
              "Open         float64\n",
              "High         float64\n",
              "Low          float64\n",
              "Close        float64\n",
              "Volume         int64\n",
              "Adj Close    float64\n",
              "dtype: object"
            ],
            "text/html": [
              "<div>\n",
              "<style scoped>\n",
              "    .dataframe tbody tr th:only-of-type {\n",
              "        vertical-align: middle;\n",
              "    }\n",
              "\n",
              "    .dataframe tbody tr th {\n",
              "        vertical-align: top;\n",
              "    }\n",
              "\n",
              "    .dataframe thead th {\n",
              "        text-align: right;\n",
              "    }\n",
              "</style>\n",
              "<table border=\"1\" class=\"dataframe\">\n",
              "  <thead>\n",
              "    <tr style=\"text-align: right;\">\n",
              "      <th></th>\n",
              "      <th>0</th>\n",
              "    </tr>\n",
              "  </thead>\n",
              "  <tbody>\n",
              "    <tr>\n",
              "      <th>Date</th>\n",
              "      <td>object</td>\n",
              "    </tr>\n",
              "    <tr>\n",
              "      <th>Open</th>\n",
              "      <td>float64</td>\n",
              "    </tr>\n",
              "    <tr>\n",
              "      <th>High</th>\n",
              "      <td>float64</td>\n",
              "    </tr>\n",
              "    <tr>\n",
              "      <th>Low</th>\n",
              "      <td>float64</td>\n",
              "    </tr>\n",
              "    <tr>\n",
              "      <th>Close</th>\n",
              "      <td>float64</td>\n",
              "    </tr>\n",
              "    <tr>\n",
              "      <th>Volume</th>\n",
              "      <td>int64</td>\n",
              "    </tr>\n",
              "    <tr>\n",
              "      <th>Adj Close</th>\n",
              "      <td>float64</td>\n",
              "    </tr>\n",
              "  </tbody>\n",
              "</table>\n",
              "</div><br><label><b>dtype:</b> object</label>"
            ]
          },
          "metadata": {},
          "execution_count": 28
        }
      ]
    },
    {
      "cell_type": "markdown",
      "metadata": {
        "id": "gSo835mZVXJj"
      },
      "source": [
        "### Step 5. Transform the Date column as a datetime type"
      ]
    },
    {
      "cell_type": "code",
      "metadata": {
        "id": "TZHt_GTCVXJm",
        "colab": {
          "base_uri": "https://localhost:8080/",
          "height": 358
        },
        "outputId": "10fa7930-7682-4037-a560-b178bfa8c04f"
      },
      "source": [
        "apple['Date'] = pd.to_datetime(apple['Date'])\n",
        "apple.dtypes"
      ],
      "execution_count": null,
      "outputs": [
        {
          "output_type": "execute_result",
          "data": {
            "text/plain": [
              "Date         datetime64[ns]\n",
              "Open                float64\n",
              "High                float64\n",
              "Low                 float64\n",
              "Close               float64\n",
              "Volume                int64\n",
              "Adj Close           float64\n",
              "dtype: object"
            ],
            "text/html": [
              "<div>\n",
              "<style scoped>\n",
              "    .dataframe tbody tr th:only-of-type {\n",
              "        vertical-align: middle;\n",
              "    }\n",
              "\n",
              "    .dataframe tbody tr th {\n",
              "        vertical-align: top;\n",
              "    }\n",
              "\n",
              "    .dataframe thead th {\n",
              "        text-align: right;\n",
              "    }\n",
              "</style>\n",
              "<table border=\"1\" class=\"dataframe\">\n",
              "  <thead>\n",
              "    <tr style=\"text-align: right;\">\n",
              "      <th></th>\n",
              "      <th>0</th>\n",
              "    </tr>\n",
              "  </thead>\n",
              "  <tbody>\n",
              "    <tr>\n",
              "      <th>Date</th>\n",
              "      <td>datetime64[ns]</td>\n",
              "    </tr>\n",
              "    <tr>\n",
              "      <th>Open</th>\n",
              "      <td>float64</td>\n",
              "    </tr>\n",
              "    <tr>\n",
              "      <th>High</th>\n",
              "      <td>float64</td>\n",
              "    </tr>\n",
              "    <tr>\n",
              "      <th>Low</th>\n",
              "      <td>float64</td>\n",
              "    </tr>\n",
              "    <tr>\n",
              "      <th>Close</th>\n",
              "      <td>float64</td>\n",
              "    </tr>\n",
              "    <tr>\n",
              "      <th>Volume</th>\n",
              "      <td>int64</td>\n",
              "    </tr>\n",
              "    <tr>\n",
              "      <th>Adj Close</th>\n",
              "      <td>float64</td>\n",
              "    </tr>\n",
              "  </tbody>\n",
              "</table>\n",
              "</div><br><label><b>dtype:</b> object</label>"
            ]
          },
          "metadata": {},
          "execution_count": 29
        }
      ]
    },
    {
      "cell_type": "markdown",
      "metadata": {
        "id": "KnpuOPx1VXJn"
      },
      "source": [
        "### Step 6.  Set the date as the index"
      ]
    },
    {
      "cell_type": "code",
      "metadata": {
        "id": "0w3vVnNTVXJp"
      },
      "source": [
        "apple.set_index('Date', inplace=True)"
      ],
      "execution_count": null,
      "outputs": []
    },
    {
      "cell_type": "markdown",
      "metadata": {
        "id": "gTAynxAuVXJq"
      },
      "source": [
        "### Step 7.  Is there any duplicate dates?"
      ]
    },
    {
      "cell_type": "code",
      "metadata": {
        "id": "X7CMs_b0VXJs"
      },
      "source": [
        "if apple.index.duplicated().any():\n",
        "    print(apple[apple.index.duplicated()])\n",
        "\n",
        "#none"
      ],
      "execution_count": null,
      "outputs": []
    },
    {
      "cell_type": "markdown",
      "metadata": {
        "id": "hwzw_ul_VXJt"
      },
      "source": [
        "### Step 8.  Ops...it seems the index is from the most recent date. Make the first entry the oldest date."
      ]
    },
    {
      "cell_type": "code",
      "metadata": {
        "id": "4-JjpkhjVXJv",
        "colab": {
          "base_uri": "https://localhost:8080/"
        },
        "outputId": "a3e91d91-5986-4d4c-c316-efe530832ea2"
      },
      "source": [
        "print(apple.head())\n",
        "apple.sort_index(ascending=False, inplace=True)\n",
        "print(apple.head())"
      ],
      "execution_count": null,
      "outputs": [
        {
          "output_type": "stream",
          "name": "stdout",
          "text": [
            "             Open   High    Low  Close    Volume  Adj Close\n",
            "Date                                                       \n",
            "2014-07-08  96.27  96.80  93.92  95.35  65130000      95.35\n",
            "2014-07-07  94.14  95.99  94.10  95.97  56305400      95.97\n",
            "2014-07-03  93.67  94.10  93.20  94.03  22891800      94.03\n",
            "2014-07-02  93.87  94.06  93.09  93.48  28420900      93.48\n",
            "2014-07-01  93.52  94.07  93.13  93.52  38170200      93.52\n",
            "             Open   High    Low  Close    Volume  Adj Close\n",
            "Date                                                       \n",
            "2014-07-08  96.27  96.80  93.92  95.35  65130000      95.35\n",
            "2014-07-07  94.14  95.99  94.10  95.97  56305400      95.97\n",
            "2014-07-03  93.67  94.10  93.20  94.03  22891800      94.03\n",
            "2014-07-02  93.87  94.06  93.09  93.48  28420900      93.48\n",
            "2014-07-01  93.52  94.07  93.13  93.52  38170200      93.52\n"
          ]
        }
      ]
    },
    {
      "cell_type": "markdown",
      "metadata": {
        "id": "eRY2W2hfVXJv"
      },
      "source": [
        "### Step 9. Get the last business day of each month"
      ]
    },
    {
      "cell_type": "code",
      "metadata": {
        "id": "APU643vIVXJx",
        "colab": {
          "base_uri": "https://localhost:8080/",
          "height": 666
        },
        "outputId": "6d17c11b-7301-40ed-8806-c0ad27839868"
      },
      "source": [
        "#sol1) resample('M')으로 월별로 묶고, lambda로 마지막 날 구하기\n",
        "apple.resample('M').apply(lambda x: x.index.max())\n",
        "\n",
        "#sol2) BM 이용해 마지막 영업일 가져오기\n",
        "apple.resample('BM').last()"
      ],
      "execution_count": null,
      "outputs": [
        {
          "output_type": "execute_result",
          "data": {
            "text/plain": [
              "              Open    High     Low   Close     Volume  Adj Close\n",
              "Date                                                            \n",
              "1980-12-31   34.25   34.25   34.13   34.13    8937600       0.53\n",
              "1981-01-30   28.50   28.50   28.25   28.25   11547200       0.44\n",
              "1981-02-27   26.50   26.75   26.50   26.50    3690400       0.41\n",
              "1981-03-31   24.75   24.75   24.50   24.50    3998400       0.38\n",
              "1981-04-30   28.38   28.62   28.38   28.38    3152800       0.44\n",
              "...            ...     ...     ...     ...        ...        ...\n",
              "2014-03-31  539.23  540.81  535.93  536.74   42167300      76.25\n",
              "2014-04-30  592.64  599.43  589.80  590.09  114160200      83.83\n",
              "2014-05-30  637.98  644.17  628.90  633.00  141005200      90.43\n",
              "2014-06-30   92.10   93.73   92.09   92.93   49482300      92.93\n",
              "2014-07-31   96.27   96.80   93.92   95.35   65130000      95.35\n",
              "\n",
              "[404 rows x 6 columns]"
            ],
            "text/html": [
              "\n",
              "  <div id=\"df-b1c39ed4-fb0d-4c48-90a5-4c3d90514f64\" class=\"colab-df-container\">\n",
              "    <div>\n",
              "<style scoped>\n",
              "    .dataframe tbody tr th:only-of-type {\n",
              "        vertical-align: middle;\n",
              "    }\n",
              "\n",
              "    .dataframe tbody tr th {\n",
              "        vertical-align: top;\n",
              "    }\n",
              "\n",
              "    .dataframe thead th {\n",
              "        text-align: right;\n",
              "    }\n",
              "</style>\n",
              "<table border=\"1\" class=\"dataframe\">\n",
              "  <thead>\n",
              "    <tr style=\"text-align: right;\">\n",
              "      <th></th>\n",
              "      <th>Open</th>\n",
              "      <th>High</th>\n",
              "      <th>Low</th>\n",
              "      <th>Close</th>\n",
              "      <th>Volume</th>\n",
              "      <th>Adj Close</th>\n",
              "    </tr>\n",
              "    <tr>\n",
              "      <th>Date</th>\n",
              "      <th></th>\n",
              "      <th></th>\n",
              "      <th></th>\n",
              "      <th></th>\n",
              "      <th></th>\n",
              "      <th></th>\n",
              "    </tr>\n",
              "  </thead>\n",
              "  <tbody>\n",
              "    <tr>\n",
              "      <th>1980-12-31</th>\n",
              "      <td>34.25</td>\n",
              "      <td>34.25</td>\n",
              "      <td>34.13</td>\n",
              "      <td>34.13</td>\n",
              "      <td>8937600</td>\n",
              "      <td>0.53</td>\n",
              "    </tr>\n",
              "    <tr>\n",
              "      <th>1981-01-30</th>\n",
              "      <td>28.50</td>\n",
              "      <td>28.50</td>\n",
              "      <td>28.25</td>\n",
              "      <td>28.25</td>\n",
              "      <td>11547200</td>\n",
              "      <td>0.44</td>\n",
              "    </tr>\n",
              "    <tr>\n",
              "      <th>1981-02-27</th>\n",
              "      <td>26.50</td>\n",
              "      <td>26.75</td>\n",
              "      <td>26.50</td>\n",
              "      <td>26.50</td>\n",
              "      <td>3690400</td>\n",
              "      <td>0.41</td>\n",
              "    </tr>\n",
              "    <tr>\n",
              "      <th>1981-03-31</th>\n",
              "      <td>24.75</td>\n",
              "      <td>24.75</td>\n",
              "      <td>24.50</td>\n",
              "      <td>24.50</td>\n",
              "      <td>3998400</td>\n",
              "      <td>0.38</td>\n",
              "    </tr>\n",
              "    <tr>\n",
              "      <th>1981-04-30</th>\n",
              "      <td>28.38</td>\n",
              "      <td>28.62</td>\n",
              "      <td>28.38</td>\n",
              "      <td>28.38</td>\n",
              "      <td>3152800</td>\n",
              "      <td>0.44</td>\n",
              "    </tr>\n",
              "    <tr>\n",
              "      <th>...</th>\n",
              "      <td>...</td>\n",
              "      <td>...</td>\n",
              "      <td>...</td>\n",
              "      <td>...</td>\n",
              "      <td>...</td>\n",
              "      <td>...</td>\n",
              "    </tr>\n",
              "    <tr>\n",
              "      <th>2014-03-31</th>\n",
              "      <td>539.23</td>\n",
              "      <td>540.81</td>\n",
              "      <td>535.93</td>\n",
              "      <td>536.74</td>\n",
              "      <td>42167300</td>\n",
              "      <td>76.25</td>\n",
              "    </tr>\n",
              "    <tr>\n",
              "      <th>2014-04-30</th>\n",
              "      <td>592.64</td>\n",
              "      <td>599.43</td>\n",
              "      <td>589.80</td>\n",
              "      <td>590.09</td>\n",
              "      <td>114160200</td>\n",
              "      <td>83.83</td>\n",
              "    </tr>\n",
              "    <tr>\n",
              "      <th>2014-05-30</th>\n",
              "      <td>637.98</td>\n",
              "      <td>644.17</td>\n",
              "      <td>628.90</td>\n",
              "      <td>633.00</td>\n",
              "      <td>141005200</td>\n",
              "      <td>90.43</td>\n",
              "    </tr>\n",
              "    <tr>\n",
              "      <th>2014-06-30</th>\n",
              "      <td>92.10</td>\n",
              "      <td>93.73</td>\n",
              "      <td>92.09</td>\n",
              "      <td>92.93</td>\n",
              "      <td>49482300</td>\n",
              "      <td>92.93</td>\n",
              "    </tr>\n",
              "    <tr>\n",
              "      <th>2014-07-31</th>\n",
              "      <td>96.27</td>\n",
              "      <td>96.80</td>\n",
              "      <td>93.92</td>\n",
              "      <td>95.35</td>\n",
              "      <td>65130000</td>\n",
              "      <td>95.35</td>\n",
              "    </tr>\n",
              "  </tbody>\n",
              "</table>\n",
              "<p>404 rows × 6 columns</p>\n",
              "</div>\n",
              "    <div class=\"colab-df-buttons\">\n",
              "\n",
              "  <div class=\"colab-df-container\">\n",
              "    <button class=\"colab-df-convert\" onclick=\"convertToInteractive('df-b1c39ed4-fb0d-4c48-90a5-4c3d90514f64')\"\n",
              "            title=\"Convert this dataframe to an interactive table.\"\n",
              "            style=\"display:none;\">\n",
              "\n",
              "  <svg xmlns=\"http://www.w3.org/2000/svg\" height=\"24px\" viewBox=\"0 -960 960 960\">\n",
              "    <path d=\"M120-120v-720h720v720H120Zm60-500h600v-160H180v160Zm220 220h160v-160H400v160Zm0 220h160v-160H400v160ZM180-400h160v-160H180v160Zm440 0h160v-160H620v160ZM180-180h160v-160H180v160Zm440 0h160v-160H620v160Z\"/>\n",
              "  </svg>\n",
              "    </button>\n",
              "\n",
              "  <style>\n",
              "    .colab-df-container {\n",
              "      display:flex;\n",
              "      gap: 12px;\n",
              "    }\n",
              "\n",
              "    .colab-df-convert {\n",
              "      background-color: #E8F0FE;\n",
              "      border: none;\n",
              "      border-radius: 50%;\n",
              "      cursor: pointer;\n",
              "      display: none;\n",
              "      fill: #1967D2;\n",
              "      height: 32px;\n",
              "      padding: 0 0 0 0;\n",
              "      width: 32px;\n",
              "    }\n",
              "\n",
              "    .colab-df-convert:hover {\n",
              "      background-color: #E2EBFA;\n",
              "      box-shadow: 0px 1px 2px rgba(60, 64, 67, 0.3), 0px 1px 3px 1px rgba(60, 64, 67, 0.15);\n",
              "      fill: #174EA6;\n",
              "    }\n",
              "\n",
              "    .colab-df-buttons div {\n",
              "      margin-bottom: 4px;\n",
              "    }\n",
              "\n",
              "    [theme=dark] .colab-df-convert {\n",
              "      background-color: #3B4455;\n",
              "      fill: #D2E3FC;\n",
              "    }\n",
              "\n",
              "    [theme=dark] .colab-df-convert:hover {\n",
              "      background-color: #434B5C;\n",
              "      box-shadow: 0px 1px 3px 1px rgba(0, 0, 0, 0.15);\n",
              "      filter: drop-shadow(0px 1px 2px rgba(0, 0, 0, 0.3));\n",
              "      fill: #FFFFFF;\n",
              "    }\n",
              "  </style>\n",
              "\n",
              "    <script>\n",
              "      const buttonEl =\n",
              "        document.querySelector('#df-b1c39ed4-fb0d-4c48-90a5-4c3d90514f64 button.colab-df-convert');\n",
              "      buttonEl.style.display =\n",
              "        google.colab.kernel.accessAllowed ? 'block' : 'none';\n",
              "\n",
              "      async function convertToInteractive(key) {\n",
              "        const element = document.querySelector('#df-b1c39ed4-fb0d-4c48-90a5-4c3d90514f64');\n",
              "        const dataTable =\n",
              "          await google.colab.kernel.invokeFunction('convertToInteractive',\n",
              "                                                    [key], {});\n",
              "        if (!dataTable) return;\n",
              "\n",
              "        const docLinkHtml = 'Like what you see? Visit the ' +\n",
              "          '<a target=\"_blank\" href=https://colab.research.google.com/notebooks/data_table.ipynb>data table notebook</a>'\n",
              "          + ' to learn more about interactive tables.';\n",
              "        element.innerHTML = '';\n",
              "        dataTable['output_type'] = 'display_data';\n",
              "        await google.colab.output.renderOutput(dataTable, element);\n",
              "        const docLink = document.createElement('div');\n",
              "        docLink.innerHTML = docLinkHtml;\n",
              "        element.appendChild(docLink);\n",
              "      }\n",
              "    </script>\n",
              "  </div>\n",
              "\n",
              "\n",
              "<div id=\"df-0d9e1ca3-a007-428b-b7bd-1842786bed13\">\n",
              "  <button class=\"colab-df-quickchart\" onclick=\"quickchart('df-0d9e1ca3-a007-428b-b7bd-1842786bed13')\"\n",
              "            title=\"Suggest charts\"\n",
              "            style=\"display:none;\">\n",
              "\n",
              "<svg xmlns=\"http://www.w3.org/2000/svg\" height=\"24px\"viewBox=\"0 0 24 24\"\n",
              "     width=\"24px\">\n",
              "    <g>\n",
              "        <path d=\"M19 3H5c-1.1 0-2 .9-2 2v14c0 1.1.9 2 2 2h14c1.1 0 2-.9 2-2V5c0-1.1-.9-2-2-2zM9 17H7v-7h2v7zm4 0h-2V7h2v10zm4 0h-2v-4h2v4z\"/>\n",
              "    </g>\n",
              "</svg>\n",
              "  </button>\n",
              "\n",
              "<style>\n",
              "  .colab-df-quickchart {\n",
              "      --bg-color: #E8F0FE;\n",
              "      --fill-color: #1967D2;\n",
              "      --hover-bg-color: #E2EBFA;\n",
              "      --hover-fill-color: #174EA6;\n",
              "      --disabled-fill-color: #AAA;\n",
              "      --disabled-bg-color: #DDD;\n",
              "  }\n",
              "\n",
              "  [theme=dark] .colab-df-quickchart {\n",
              "      --bg-color: #3B4455;\n",
              "      --fill-color: #D2E3FC;\n",
              "      --hover-bg-color: #434B5C;\n",
              "      --hover-fill-color: #FFFFFF;\n",
              "      --disabled-bg-color: #3B4455;\n",
              "      --disabled-fill-color: #666;\n",
              "  }\n",
              "\n",
              "  .colab-df-quickchart {\n",
              "    background-color: var(--bg-color);\n",
              "    border: none;\n",
              "    border-radius: 50%;\n",
              "    cursor: pointer;\n",
              "    display: none;\n",
              "    fill: var(--fill-color);\n",
              "    height: 32px;\n",
              "    padding: 0;\n",
              "    width: 32px;\n",
              "  }\n",
              "\n",
              "  .colab-df-quickchart:hover {\n",
              "    background-color: var(--hover-bg-color);\n",
              "    box-shadow: 0 1px 2px rgba(60, 64, 67, 0.3), 0 1px 3px 1px rgba(60, 64, 67, 0.15);\n",
              "    fill: var(--button-hover-fill-color);\n",
              "  }\n",
              "\n",
              "  .colab-df-quickchart-complete:disabled,\n",
              "  .colab-df-quickchart-complete:disabled:hover {\n",
              "    background-color: var(--disabled-bg-color);\n",
              "    fill: var(--disabled-fill-color);\n",
              "    box-shadow: none;\n",
              "  }\n",
              "\n",
              "  .colab-df-spinner {\n",
              "    border: 2px solid var(--fill-color);\n",
              "    border-color: transparent;\n",
              "    border-bottom-color: var(--fill-color);\n",
              "    animation:\n",
              "      spin 1s steps(1) infinite;\n",
              "  }\n",
              "\n",
              "  @keyframes spin {\n",
              "    0% {\n",
              "      border-color: transparent;\n",
              "      border-bottom-color: var(--fill-color);\n",
              "      border-left-color: var(--fill-color);\n",
              "    }\n",
              "    20% {\n",
              "      border-color: transparent;\n",
              "      border-left-color: var(--fill-color);\n",
              "      border-top-color: var(--fill-color);\n",
              "    }\n",
              "    30% {\n",
              "      border-color: transparent;\n",
              "      border-left-color: var(--fill-color);\n",
              "      border-top-color: var(--fill-color);\n",
              "      border-right-color: var(--fill-color);\n",
              "    }\n",
              "    40% {\n",
              "      border-color: transparent;\n",
              "      border-right-color: var(--fill-color);\n",
              "      border-top-color: var(--fill-color);\n",
              "    }\n",
              "    60% {\n",
              "      border-color: transparent;\n",
              "      border-right-color: var(--fill-color);\n",
              "    }\n",
              "    80% {\n",
              "      border-color: transparent;\n",
              "      border-right-color: var(--fill-color);\n",
              "      border-bottom-color: var(--fill-color);\n",
              "    }\n",
              "    90% {\n",
              "      border-color: transparent;\n",
              "      border-bottom-color: var(--fill-color);\n",
              "    }\n",
              "  }\n",
              "</style>\n",
              "\n",
              "  <script>\n",
              "    async function quickchart(key) {\n",
              "      const quickchartButtonEl =\n",
              "        document.querySelector('#' + key + ' button');\n",
              "      quickchartButtonEl.disabled = true;  // To prevent multiple clicks.\n",
              "      quickchartButtonEl.classList.add('colab-df-spinner');\n",
              "      try {\n",
              "        const charts = await google.colab.kernel.invokeFunction(\n",
              "            'suggestCharts', [key], {});\n",
              "      } catch (error) {\n",
              "        console.error('Error during call to suggestCharts:', error);\n",
              "      }\n",
              "      quickchartButtonEl.classList.remove('colab-df-spinner');\n",
              "      quickchartButtonEl.classList.add('colab-df-quickchart-complete');\n",
              "    }\n",
              "    (() => {\n",
              "      let quickchartButtonEl =\n",
              "        document.querySelector('#df-0d9e1ca3-a007-428b-b7bd-1842786bed13 button');\n",
              "      quickchartButtonEl.style.display =\n",
              "        google.colab.kernel.accessAllowed ? 'block' : 'none';\n",
              "    })();\n",
              "  </script>\n",
              "</div>\n",
              "\n",
              "    </div>\n",
              "  </div>\n"
            ],
            "application/vnd.google.colaboratory.intrinsic+json": {
              "type": "dataframe",
              "summary": "{\n  \"name\": \"apple\",\n  \"rows\": 404,\n  \"fields\": [\n    {\n      \"column\": \"Date\",\n      \"properties\": {\n        \"dtype\": \"date\",\n        \"min\": \"1980-12-31 00:00:00\",\n        \"max\": \"2014-07-31 00:00:00\",\n        \"num_unique_values\": 404,\n        \"samples\": [\n          \"1986-10-31 00:00:00\",\n          \"1999-02-26 00:00:00\",\n          \"2012-12-31 00:00:00\"\n        ],\n        \"semantic_type\": \"\",\n        \"description\": \"\"\n      }\n    },\n    {\n      \"column\": \"Open\",\n      \"properties\": {\n        \"dtype\": \"number\",\n        \"std\": 143.28332621034113,\n        \"min\": 12.75,\n        \"max\": 678.75,\n        \"num_unique_values\": 348,\n        \"samples\": [\n          92.21,\n          53.5,\n          402.42\n        ],\n        \"semantic_type\": \"\",\n        \"description\": \"\"\n      }\n    },\n    {\n      \"column\": \"High\",\n      \"properties\": {\n        \"dtype\": \"number\",\n        \"std\": 144.49366141785842,\n        \"min\": 12.87,\n        \"max\": 681.11,\n        \"num_unique_values\": 360,\n        \"samples\": [\n          14.35,\n          25.87,\n          189.54\n        ],\n        \"semantic_type\": \"\",\n        \"description\": \"\"\n      }\n    },\n    {\n      \"column\": \"Low\",\n      \"properties\": {\n        \"dtype\": \"number\",\n        \"std\": 141.93690448435316,\n        \"min\": 12.75,\n        \"max\": 666.75,\n        \"num_unique_values\": 342,\n        \"samples\": [\n          51.88,\n          55.63,\n          46.75\n        ],\n        \"semantic_type\": \"\",\n        \"description\": \"\"\n      }\n    },\n    {\n      \"column\": \"Close\",\n      \"properties\": {\n        \"dtype\": \"number\",\n        \"std\": 143.09618621304784,\n        \"min\": 12.75,\n        \"max\": 667.1,\n        \"num_unique_values\": 349,\n        \"samples\": [\n          23.62,\n          561.02,\n          404.78\n        ],\n        \"semantic_type\": \"\",\n        \"description\": \"\"\n      }\n    },\n    {\n      \"column\": \"Volume\",\n      \"properties\": {\n        \"dtype\": \"number\",\n        \"std\": 115891932,\n        \"min\": 2738400,\n        \"max\": 1855410200,\n        \"num_unique_values\": 402,\n        \"samples\": [\n          257129600,\n          60755800,\n          29467200\n        ],\n        \"semantic_type\": \"\",\n        \"description\": \"\"\n      }\n    },\n    {\n      \"column\": \"Adj Close\",\n      \"properties\": {\n        \"dtype\": \"number\",\n        \"std\": 21.704364858084038,\n        \"min\": 0.2,\n        \"max\": 95.35,\n        \"num_unique_values\": 268,\n        \"samples\": [\n          0.61,\n          28.77,\n          0.66\n        ],\n        \"semantic_type\": \"\",\n        \"description\": \"\"\n      }\n    }\n  ]\n}"
            }
          },
          "metadata": {},
          "execution_count": 33
        }
      ]
    },
    {
      "cell_type": "markdown",
      "metadata": {
        "id": "a9O6hmadVXJy"
      },
      "source": [
        "### Step 10.  What is the difference in days between the first day and the oldest"
      ]
    },
    {
      "cell_type": "code",
      "metadata": {
        "id": "HMGS16w9VXJy",
        "colab": {
          "base_uri": "https://localhost:8080/"
        },
        "outputId": "5fd91d36-17a5-41c7-a401-7ca00346d5c7"
      },
      "source": [
        "(apple.index.max() - apple.index.min()).days"
      ],
      "execution_count": null,
      "outputs": [
        {
          "output_type": "execute_result",
          "data": {
            "text/plain": [
              "12261"
            ]
          },
          "metadata": {},
          "execution_count": 34
        }
      ]
    },
    {
      "cell_type": "markdown",
      "metadata": {
        "id": "Ey0zVGV5VXJz"
      },
      "source": [
        "### Step 11.  How many months in the data we have?"
      ]
    },
    {
      "cell_type": "code",
      "metadata": {
        "id": "Pxkdp6j-VXJz",
        "colab": {
          "base_uri": "https://localhost:8080/"
        },
        "outputId": "0b4a3199-6ea5-4e19-a573-e2481c8edca9"
      },
      "source": [
        "apple.index.to_period('M').nunique()"
      ],
      "execution_count": null,
      "outputs": [
        {
          "output_type": "execute_result",
          "data": {
            "text/plain": [
              "404"
            ]
          },
          "metadata": {},
          "execution_count": 35
        }
      ]
    },
    {
      "cell_type": "markdown",
      "metadata": {
        "id": "zXIBNkMFVXJ0"
      },
      "source": [
        "### Step 12. Plot the 'Adj Close' value. Set the size of the figure to 13.5 x 9 inches"
      ]
    },
    {
      "cell_type": "code",
      "metadata": {
        "id": "bvsp15_IVXJ1",
        "colab": {
          "base_uri": "https://localhost:8080/",
          "height": 54
        },
        "outputId": "fcc5b6a2-1375-4f54-a8a2-0d227155df4d"
      },
      "source": [
        "import matplotlib.pyplot as plt\n",
        "\n",
        "plt.figure(figsize=(13.5, 9))\n",
        "plt.plot(apple['Adj Close'], label='Adj Close')\n",
        "\n",
        "plt.xlabel('Date')\n",
        "plt.ylabel('Adj Close')\n",
        "\n",
        "plt.show()"
      ],
      "execution_count": null,
      "outputs": [
        {
          "output_type": "display_data",
          "data": {
            "text/plain": [
              "<Figure size 1350x900 with 1 Axes>"
            ],
            "image/png": "[encoded data removed]"
          },
          "metadata": {}
        }
      ]
    }
  ]
}