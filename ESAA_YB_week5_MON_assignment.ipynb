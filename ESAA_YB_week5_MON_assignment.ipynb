{
  "nbformat": 4,
  "nbformat_minor": 0,
  "metadata": {
    "colab": {
      "provenance": [],
      "authorship_tag": "ABX9TyPym86wsnu+3fJQI+b+u3qD"
    },
    "kernelspec": {
      "name": "python3",
      "display_name": "Python 3"
    },
    "language_info": {
      "name": "python"
    }
  },
  "cells": [
    {
      "cell_type": "markdown",
      "source": [
        "# **03. 평가**"
      ],
      "metadata": {
        "id": "jOONKejnTCB8"
      }
    },
    {
      "cell_type": "markdown",
      "source": [
        "## **정확도**"
      ],
      "metadata": {
        "id": "ebebNl7aTFHY"
      }
    },
    {
      "cell_type": "markdown",
      "source": [
        "정확도 = (예측 결과가 동일한 데이터 건수) / (전체 예측 데이터 건수)"
      ],
      "metadata": {
        "id": "rGc79XBdTIqI"
      }
    },
    {
      "cell_type": "markdown",
      "source": [
        "데이터 구성에 따라 정확도만으로 모델을 판단할 경우 아래와 같이 성능이 왜곡될 수 있음"
      ],
      "metadata": {
        "id": "qVFW49MAvPyy"
      }
    },
    {
      "cell_type": "code",
      "execution_count": 10,
      "metadata": {
        "id": "VauYf89KS8LN"
      },
      "outputs": [],
      "source": [
        "import numpy as np\n",
        "from sklearn.base import BaseEstimator\n",
        "\n",
        "class MyDummyClassifier(BaseEstimator):\n",
        "  #fit() 메서드는 아무것도 학습하지 않음\n",
        "  def fit(self, X, y=None):\n",
        "    pass\n",
        "  #predict() 메서드는 단순히 Sex 피처가 1이면 0, 그렇지 않으면 1로 예측함\n",
        "  def predict(self, X):\n",
        "    pred = np.zeros((X.shape[0],1))\n",
        "    for i in range(X.shape[0]):\n",
        "      if X['Sex'].iloc[i] == 1:\n",
        "        pred[i] = 0\n",
        "      else:\n",
        "        pred[i] = 1\n",
        "    return pred"
      ]
    },
    {
      "cell_type": "code",
      "source": [
        "import pandas as pd\n",
        "from sklearn.model_selection import train_test_split\n",
        "from sklearn.metrics import accuracy_score\n",
        "\n",
        "#원본 데이터를 재로딩, 데이터 가공, 학습 데이터/테스트 데이터 분할\n",
        "from google.colab import drive\n",
        "drive.mount('/content/drive')\n",
        "\n",
        "titanic_df = pd.read_csv('/content/drive/MyDrive/EWHA/ESAA/titanic/train.csv')\n",
        "y_titanic_df = titanic_df['Survived']\n",
        "X_titanic_df= titanic_df.drop('Survived', axis=1)\n",
        "\n",
        "\n",
        "##transform_features 정의\n",
        "from sklearn.preprocessing import LabelEncoder\n",
        "# Null 처리 함수\n",
        "def fillna(df):\n",
        "  df['Age'].fillna(df['Age'].mean(), inplace=True)\n",
        "  df['Cabin'].fillna('N', inplace=True)\n",
        "  df['Embarked'].fillna('N', inplace=True)\n",
        "  df['Fare'].fillna(0, inplace=True)\n",
        "  return df\n",
        "\n",
        "# 머신러닝 알고리즘에 불필요한 피처 제거\n",
        "def drop_features(df):\n",
        "  df.drop(['PassengerId', 'Name', 'Ticket'], axis=1, inplace=True)\n",
        "  return df\n",
        "\n",
        "# 레이블 인코딩 수행.\n",
        "def format_features(df):\n",
        "  df['Cabin'] = df['Cabin'].str[:1]\n",
        "  features = ['Cabin', 'Sex', 'Embarked']\n",
        "  for feature in features:\n",
        "    le = LabelEncoder()\n",
        "    le = le.fit(df[feature])\n",
        "    df[feature] = le.transform(df[feature])\n",
        "  return df\n",
        "\n",
        "# 앞에서 설정한 데이터 전처리 함수 호출\n",
        "def transform_features(df):\n",
        "  df = fillna(df)\n",
        "  df = drop_features(df)\n",
        "  df = format_features(df)\n",
        "  return df\n",
        "\n",
        "\n",
        "X_titanic_df = transform_features(X_titanic_df)\n",
        "X_train, X_test, y_train, y_test=train_test_split(X_titanic_df, y_titanic_df,\n",
        "test_size=0.2, random_state=0)\n",
        "# 위에서 생성한 Dummy Classifier를 이용해 학습/예측/평가 수행\n",
        "myclf = MyDummyClassifier()\n",
        "myclf.fit(X_train, y_train)\n",
        "\n",
        "mypredictions = myclf.predict(X_test)\n",
        "print('Dummy Classifier의 정확도는: {0:.4f}'.format(accuracy_score(y_test, mypredictions)))"
      ],
      "metadata": {
        "colab": {
          "base_uri": "https://localhost:8080/"
        },
        "id": "cr8bX3gGweZA",
        "outputId": "8a398fe4-2ca8-4c97-c561-f231cb76362b"
      },
      "execution_count": 11,
      "outputs": [
        {
          "output_type": "stream",
          "name": "stdout",
          "text": [
            "Drive already mounted at /content/drive; to attempt to forcibly remount, call drive.mount(\"/content/drive\", force_remount=True).\n",
            "Dummy Classifier의 정확도는: 0.7877\n"
          ]
        }
      ]
    },
    {
      "cell_type": "markdown",
      "source": [
        "데이터 분포도 균일하지 않은 경우 정확성이 높게 나올 수 있음."
      ],
      "metadata": {
        "id": "yCBGSr3d0NHk"
      }
    },
    {
      "cell_type": "code",
      "source": [
        "from sklearn.datasets import load_digits\n",
        "from sklearn.model_selection import train_test_split\n",
        "from sklearn.base import BaseEstimator\n",
        "from sklearn.metrics import accuracy_score\n",
        "import numpy as np\n",
        "import pandas as pd\n",
        "\n",
        "class MyFakeClassifier(BaseEstimator):\n",
        "  def fit(self, Xz, y):\n",
        "    pass\n",
        "\n",
        "  # 입력값으로 들어오는 X 데이터 세트의 크기만큼 모두 0값으로 만들어서 반환\n",
        "  def predict(self, X):\n",
        "    return np.zeros( (len(X), 1), dtype=bool)\n",
        "\n",
        "# 사이킷런의 내장 데이터 세트인 load_digits( )를 이용해 MNIST 데이터 로딩\n",
        "digits = load_digits()\n",
        "\n",
        "# digits 번호가 7번이면 True이고 이를 astype(int)로 1로 변환, 7번이 아니면 False이고 0으로 변환.\n",
        "y = (digits.target == 7).astype(int)\n",
        "X_train, X_test, y_train, y_test = train_test_split( digits.data, y, random_state=11)\n"
      ],
      "metadata": {
        "id": "uZPzC9Th0Vip"
      },
      "execution_count": 14,
      "outputs": []
    },
    {
      "cell_type": "code",
      "source": [
        "# 불균형한 레이블 데이터 분포도 확인.\n",
        "print('레이블 테스트 세트 크기 :', y_test.shape)\n",
        "print('테스트 세트 레이블 0 과 1의 분포도')\n",
        "print(pd.Series(y_test).value_counts())\n",
        "\n",
        "# Dummy Classifier로 학습/예측/정확도 평가\n",
        "fakeclf = MyFakeClassifier()\n",
        "fakeclf.fit(X_train, y_train)\n",
        "\n",
        "fakepred = fakeclf.predict(X_test)\n",
        "print('모든 예측을 0으로 하여도 정확도는:{:.3f}'.format(accuracy_score(y_test, fakepred)))"
      ],
      "metadata": {
        "colab": {
          "base_uri": "https://localhost:8080/"
        },
        "id": "j9YsWdQ41JD4",
        "outputId": "3ebc1375-daff-4a7a-e5bd-97abb5f67af7"
      },
      "execution_count": 16,
      "outputs": [
        {
          "output_type": "stream",
          "name": "stdout",
          "text": [
            "레이블 테스트 세트 크기 : (450,)\n",
            "테스트 세트 레이블 0 과 1의 분포도\n",
            "0    405\n",
            "1     45\n",
            "Name: count, dtype: int64\n",
            "모든 예측을 0으로 하여도 정확도는:0.900\n"
          ]
        }
      ]
    },
    {
      "cell_type": "markdown",
      "source": [
        "##**02. 오차 행렬**"
      ],
      "metadata": {
        "id": "q6YOjImN1Vtr"
      }
    },
    {
      "cell_type": "markdown",
      "source": [
        "학습된 분류모델이 예측을 수행하면서 얼마나 헷갈리고 있는지, 즉 예측 오류가 얼마인지와 그 유형을 나타내는 지표.\n",
        "\n",
        "![스크린샷 2024-10-03 234415.png](data:image/png;base64,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)"
      ],
      "metadata": {
        "id": "YHvHMgcw1f3O"
      }
    },
    {
      "cell_type": "markdown",
      "source": [
        "사이킷런은 오차 행렬 구하기 위해 confusion_matrix() 제공\n",
        "\n",
        "정확도는 오차 행렬상에서 (TN + TP) / (TN + FP + FN + TP)로 재정의 될 수 있음"
      ],
      "metadata": {
        "id": "aCy4Q_He1xUD"
      }
    },
    {
      "cell_type": "code",
      "source": [
        "from sklearn.metrics import confusion_matrix\n",
        "confusion_matrix(y_test, fakepred)"
      ],
      "metadata": {
        "colab": {
          "base_uri": "https://localhost:8080/"
        },
        "id": "Q4yXR8vL14IY",
        "outputId": "e76abf2f-1d69-4bd5-d398-c2d1b5cf4be8"
      },
      "execution_count": 20,
      "outputs": [
        {
          "output_type": "execute_result",
          "data": {
            "text/plain": [
              "array([[405,   0],\n",
              "       [ 45,   0]])"
            ]
          },
          "metadata": {},
          "execution_count": 20
        }
      ]
    },
    {
      "cell_type": "markdown",
      "source": [
        "## **03. 정밀도와 재현율**\n",
        "\n",
        "*   정밀도 = TP / (FP + TP)\n",
        "*   재현율 = TP / (FN + TP)"
      ],
      "metadata": {
        "id": "pPuDSxGb2P06"
      }
    },
    {
      "cell_type": "markdown",
      "source": [
        "\n",
        "\n",
        "*   precision_score() : 정밀도 계산\n",
        "*   recall_score() : 재현율 계산\n",
        "*   get_clv_eval() : confusion matrix, accuracy, precision, recall 등의 효과 한꺼번에 호출\n",
        "\n"
      ],
      "metadata": {
        "id": "FioGCUJI2zvd"
      }
    },
    {
      "cell_type": "code",
      "source": [
        "from sklearn.metrics import accuracy_score, precision_score, recall_score, confusion_matrix\n",
        "def get_clf_eval(y_test, pred):\n",
        "  confusion = confusion_matrix( y_test, pred)\n",
        "  accuracy = accuracy_score(y_test, pred)\n",
        "  precision = precision_score(y_test, pred)\n",
        "  recall = recall_score(y_test, pred)\n",
        "  print('오차 행렬')\n",
        "  print(confusion)\n",
        "  print('정확도: {0:.4f}, 정밀도: {1:.4f}, 재현율: {2:.4f}'.format(accuracy, precision, recall))"
      ],
      "metadata": {
        "id": "KPDsYoVi2aZV"
      },
      "execution_count": 28,
      "outputs": []
    },
    {
      "cell_type": "code",
      "source": [
        "import pandas as pd\n",
        "from sklearn.model_selection import train_test_split\n",
        "from sklearn.linear_model import LogisticRegression\n",
        "\n",
        "# 원본 데이터를 재로딩, 데이터 가공, 학습 데이터/테스트 데이터 분할.\n",
        "titanic_df = pd.read_csv('/content/drive/MyDrive/EWHA/ESAA/titanic/train.csv')\n",
        "y_titanic_df = titanic_df['Survived']\n",
        "X_titanic_df= titanic_df.drop('Survived', axis=1)\n",
        "X_titanic_df = transform_features(X_titanic_df)\n",
        "\n",
        "X_train, X_test, y_train, y_test = train_test_split(X_titanic_df, y_titanic_df,\n",
        "                                                    test_size = 0.20, random_state=11)\n",
        "lr_clf = LogisticRegression(solver='liblinear')\n",
        "lr_clf.fit(X_train, y_train)\n",
        "\n",
        "pred = lr_clf.predict(X_test)\n",
        "get_clf_eval(y_test, pred)"
      ],
      "metadata": {
        "colab": {
          "base_uri": "https://localhost:8080/"
        },
        "id": "s6YniHdI2t_A",
        "outputId": "49df10f3-65fc-4b60-91da-b2c78d891608"
      },
      "execution_count": 29,
      "outputs": [
        {
          "output_type": "stream",
          "name": "stdout",
          "text": [
            "오차 행렬\n",
            "[[108  10]\n",
            " [ 14  47]]\n",
            "정확도: 0.8659, 정밀도: 0.8246, 재현율: 0.7705\n"
          ]
        }
      ]
    },
    {
      "cell_type": "markdown",
      "source": [
        "### **정밀도/재현율 트레이드오프**"
      ],
      "metadata": {
        "id": "fiookVYU3rEG"
      }
    },
    {
      "cell_type": "code",
      "source": [
        "pred_proba = lr_clf.predict_proba(X_test)\n",
        "pred = lr_clf.predict(X_test)\n",
        "print('pred_proba()결과 Shape ： {0}',format(pred_proba.shape))\n",
        "print('predj>roba array에서 앞 3개만 샘플로 추출 \\n:', pred_proba[:3])\n",
        "\n",
        "# 예측 확률 array와 예측 결괏값 array를 병합(concatenate)해 예측 확률과 결괏값을 한눈에 확인\n",
        "pred_proba_result = np.concatenate([pred_proba, pred.reshape(-1, 1)], axis=1)\n",
        "print('두 개의 class 중에서 더 큰 확률을 클래스 값으로 예측 \\n', pred_proba_result[:3])"
      ],
      "metadata": {
        "colab": {
          "base_uri": "https://localhost:8080/"
        },
        "id": "gpx2iiy73uDR",
        "outputId": "6fedbb41-7909-4eb2-d87f-b3620d4097c4"
      },
      "execution_count": 30,
      "outputs": [
        {
          "output_type": "stream",
          "name": "stdout",
          "text": [
            "pred_proba()결과 Shape ： {0} (179, 2)\n",
            "predj>roba array에서 앞 3개만 샘플로 추출 \n",
            ": [[0.44935227 0.55064773]\n",
            " [0.86335512 0.13664488]\n",
            " [0.86429645 0.13570355]]\n",
            "두 개의 class 중에서 더 큰 확률을 클래스 값으로 예측 \n",
            " [[0.44935227 0.55064773 1.        ]\n",
            " [0.86335512 0.13664488 0.        ]\n",
            " [0.86429645 0.13570355 0.        ]]\n"
          ]
        }
      ]
    },
    {
      "cell_type": "code",
      "source": [
        "from sklearn.preprocessing import Binarizer\n",
        "\n",
        "X = [[ 1, -1, 2],\n",
        " [ 2, 0, 0],\n",
        "  [0, 1.1, 1.2]]\n",
        "\n",
        "# 수의 개별 원소들이 threshold값보다 같거나 작으면 0을, 크면 1을 반환\n",
        "binarizer = Binarizer(threshold=1.1)\n",
        "print(binarizer.fit_transform(X))"
      ],
      "metadata": {
        "colab": {
          "base_uri": "https://localhost:8080/"
        },
        "id": "eCaseecc4WiO",
        "outputId": "dec9853f-6a51-4e24-a152-2f9e15da58c5"
      },
      "execution_count": 31,
      "outputs": [
        {
          "output_type": "stream",
          "name": "stdout",
          "text": [
            "[[0. 0. 1.]\n",
            " [1. 0. 0.]\n",
            " [0. 0. 1.]]\n"
          ]
        }
      ]
    },
    {
      "cell_type": "code",
      "source": [
        "from sklearn.preprocessing import Binarizer\n",
        "\n",
        "# Binarizer의 threshold 설정값. 분류 결정 임곗값임.\n",
        "custom_threshold = 0.5\n",
        "\n",
        "# predict_proba( ) 반환값의 두 번째 칼럼, 즉 Positive 클래스 칼럼 하나만 추출해 Binarizer를 적용\n",
        "pred_proba_1 = pred_proba[:, 1].reshape(-1, 1)\n",
        "\n",
        "binarizer = Binarizer(threshold=custom_threshold).fit(pred_proba_1)\n",
        "custom_predict = binarizer.transform(pred_proba_1)\n",
        "\n",
        "get_clf_eval(y_test, custom_predict)"
      ],
      "metadata": {
        "colab": {
          "base_uri": "https://localhost:8080/"
        },
        "id": "1UUD7k294qFG",
        "outputId": "f2d0859c-aa14-4725-b0ef-1ebf6fa8ac01"
      },
      "execution_count": 32,
      "outputs": [
        {
          "output_type": "stream",
          "name": "stdout",
          "text": [
            "오차 행렬\n",
            "[[108  10]\n",
            " [ 14  47]]\n",
            "정확도: 0.8659, 정밀도: 0.8246, 재현율: 0.7705\n"
          ]
        }
      ]
    },
    {
      "cell_type": "code",
      "source": [
        "# Binarizer의 threshold 설정값을 0.4로 설정. 즉 분류 결정 임곗값을 0.5에서 0.4로 낮춤\n",
        "custom_threshold = 0.4\n",
        "pred_proba_1 = pred_proba[:, 1].reshape(-1, 1)\n",
        "binarizer = Binarizer(threshold=custom_threshold).fit(pred_proba_1)\n",
        "custom_predict = binarizer.transform(pred_proba_1)\n",
        "get_clf_eval(y_test, custom_predict)"
      ],
      "metadata": {
        "colab": {
          "base_uri": "https://localhost:8080/"
        },
        "id": "AZN77ZKY4yGZ",
        "outputId": "6164f7c8-63fb-4225-f33b-39e31782fb48"
      },
      "execution_count": 33,
      "outputs": [
        {
          "output_type": "stream",
          "name": "stdout",
          "text": [
            "오차 행렬\n",
            "[[97 21]\n",
            " [11 50]]\n",
            "정확도: 0.8212, 정밀도: 0.7042, 재현율: 0.8197\n"
          ]
        }
      ]
    },
    {
      "cell_type": "code",
      "source": [
        "# 테스트를 수행할 모든 임곗값을 리스트 객체로 저장.\n",
        "thresholds = [0.4, 0.45, 0.50, 0.55, 0.60]\n",
        "def get_eval_by_threshold(y_test, pred_proba_c1, thresholds):\n",
        "  # thresholds list객체 내의 값을 차례로 iteration하면서 Evaluation 수행.\n",
        "  for custom_threshold in thresholds:\n",
        "    binarizer = Binarizer(threshold=custom_threshold).fit(pred_proba_c1)\n",
        "    custom_predict = binarizer.transform(pred_proba_c1)\n",
        "    print('임곗값:', custom_threshold)\n",
        "    get_clf_eval(y_test, custom_predict)\n",
        "\n",
        "get_eval_by_threshold(y_test, pred_proba[:, 1 ].reshape(-1, 1), thresholds )"
      ],
      "metadata": {
        "colab": {
          "base_uri": "https://localhost:8080/"
        },
        "id": "d83G62KA468K",
        "outputId": "c0597cf5-e41b-409a-fa86-fa7e65e2046b"
      },
      "execution_count": 34,
      "outputs": [
        {
          "output_type": "stream",
          "name": "stdout",
          "text": [
            "임곗값: 0.4\n",
            "오차 행렬\n",
            "[[97 21]\n",
            " [11 50]]\n",
            "정확도: 0.8212, 정밀도: 0.7042, 재현율: 0.8197\n",
            "임곗값: 0.45\n",
            "오차 행렬\n",
            "[[105  13]\n",
            " [ 13  48]]\n",
            "정확도: 0.8547, 정밀도: 0.7869, 재현율: 0.7869\n",
            "임곗값: 0.5\n",
            "오차 행렬\n",
            "[[108  10]\n",
            " [ 14  47]]\n",
            "정확도: 0.8659, 정밀도: 0.8246, 재현율: 0.7705\n",
            "임곗값: 0.55\n",
            "오차 행렬\n",
            "[[111   7]\n",
            " [ 16  45]]\n",
            "정확도: 0.8715, 정밀도: 0.8654, 재현율: 0.7377\n",
            "임곗값: 0.6\n",
            "오차 행렬\n",
            "[[113   5]\n",
            " [ 17  44]]\n",
            "정확도: 0.8771, 정밀도: 0.8980, 재현율: 0.7213\n"
          ]
        }
      ]
    },
    {
      "cell_type": "code",
      "source": [
        "from sklearn.metrics import precision_recall_curve\n",
        "\n",
        "# 레이블 값이 1 일 때의 예측 확률을 추출\n",
        "pred_proba_class1 = lr_clf.predict_proba(X_test)[:, 1 ]\n",
        "\n",
        "# 실제값 데이터 세트와 레이블 값이 1일 때의 예측 확률을 precision_recall_curve 인자로 입력\n",
        "precisions, recalls, thresholds = precision_recall_curve(y_test, pred_proba_class1 )\n",
        "print('반환된 분류 결정 임곗값 배열의 Shape:', thresholds.shape)\n",
        "\n",
        "# 반환된 임계값 배열 로우가 165건이므로 샘플로 10건만 추출하되, 임곗값을 15 Step으로 추출.\n",
        "thr_index = np.arange(0, thresholds.shape[0], 15)\n",
        "print('샘플 추출을 위한 임계값 배열의 index 10개:', thr_index)\n",
        "print('샘플용 10개의 임곗값:', np. round (thresholds [thr_index ], 2))\n",
        "\n",
        "# 15 step 단위로 추출된 임계값에 따른 정밀도와 재현율 값\n",
        "print('샘플 임계값별 정밀도:', np.round (precisions [thr_index], 3))\n",
        "print('샘플 임계값별 재현율:', np.round(recalls[thr_index], 3))"
      ],
      "metadata": {
        "colab": {
          "base_uri": "https://localhost:8080/"
        },
        "id": "NJa-VQZs5J01",
        "outputId": "b481fe44-2fea-4751-b773-2fe338d1eebe"
      },
      "execution_count": 36,
      "outputs": [
        {
          "output_type": "stream",
          "name": "stdout",
          "text": [
            "반환된 분류 결정 임곗값 배열의 Shape: (165,)\n",
            "샘플 추출을 위한 임계값 배열의 index 10개: [  0  15  30  45  60  75  90 105 120 135 150]\n",
            "샘플용 10개의 임곗값: [0.02 0.11 0.13 0.14 0.16 0.24 0.32 0.45 0.62 0.73 0.87]\n",
            "샘플 임계값별 정밀도: [0.341 0.372 0.401 0.44  0.505 0.598 0.688 0.774 0.915 0.968 0.938]\n",
            "샘플 임계값별 재현율: [1.    1.    0.967 0.902 0.902 0.902 0.869 0.787 0.705 0.492 0.246]\n"
          ]
        }
      ]
    },
    {
      "cell_type": "code",
      "source": [
        "import matplotlib.pyplot as plt\n",
        "import matplotlib.ticker as ticker\n",
        "%matplotlib inline\n",
        "\n",
        "def precision_recall_curve_plot(y_test, pred_proba_c1):\n",
        "  # threshold ndarray와 이 threshold에 따른 정밀도, 재현율 ndarray 추출.\n",
        "  precisions, recalls, thresholds = precision_recall_curve( y_test, pred_proba_c1)\n",
        "  # X축을 thre아lold값으로, 우축은 정밀도, 재현율 값으로 각각 Plot 수행. 정밀도는 점선으로 표시\n",
        "  plt.figure(figsize=(8, 6))\n",
        "  threshold_boundary = thresholds.shape[0]\n",
        "  plt.plot(thresholds, precisions[0:threshold_boundary], linestyle='-', label='precision')\n",
        "  plt.plot(thresholds, recalls[0:threshold_boundary], label='recall')\n",
        "\n",
        "  # threshold 값 X 축의 Seal은을 0.1 단위로 변경\n",
        "  start, end = plt.xlim()\n",
        "  plt.xticks(np.round(np.arange(start, end, 0.1), 2))\n",
        "  # x축, y축 label과 legend, 그리고 grid 설정\n",
        "  pit.xlabel('Threshold value'); plt.ylabel('Precision and Recall value')\n",
        "  plt.legend(); plt.grid()\n",
        "  plt.show()\n",
        "\n",
        "precision_recall_curve_plot(y_test, lr_clf.predict_proba(X_test)[:, 1 ] )\n"
      ],
      "metadata": {
        "colab": {
          "base_uri": "https://localhost:8080/",
          "height": 542
        },
        "id": "uE_f5tK46Xe8",
        "outputId": "5e8ec01a-c7f1-4c36-fbfe-2278ec5d2282"
      },
      "execution_count": 42,
      "outputs": [
        {
          "output_type": "display_data",
          "data": {
            "text/plain": [
              "<Figure size 800x600 with 1 Axes>"
            ],
            "image/png": "[encoded data removed]"
          },
          "metadata": {}
        }
      ]
    },
    {
      "cell_type": "markdown",
      "source": [
        "## **F1 스코어**\n",
        "\n",
        "정밀도와 재현율이 어느 한 쪽으로 치우치지 않을 때 높은 값 가짐"
      ],
      "metadata": {
        "id": "HozlVQxP7gd5"
      }
    },
    {
      "cell_type": "code",
      "source": [
        "from sklearn.metrics import f1_score\n",
        "f1 = f1_score(y_test, pred)\n",
        "print('F1 스코어: {0:.4f}'.format(f1))"
      ],
      "metadata": {
        "colab": {
          "base_uri": "https://localhost:8080/"
        },
        "id": "N666sg0z7pNq",
        "outputId": "14fbbc6b-14dd-45c2-d4aa-e2d96bc0ceeb"
      },
      "execution_count": 44,
      "outputs": [
        {
          "output_type": "stream",
          "name": "stdout",
          "text": [
            "F1 스코어: 0.7966\n"
          ]
        }
      ]
    },
    {
      "cell_type": "code",
      "source": [
        "def get_clf_eval(y_test, pred):\n",
        "  confusion = confusion_matrix(y_test, pred)\n",
        "  accuracy = accuracy_score(y_test, pred)\n",
        "  precision = precision_score(y_test, pred)\n",
        "  recall = recall_score(y_test, pred)\n",
        "  # F1 스코어 추가\n",
        "  f1 = f1_score(y_test, pred)\n",
        "  print('오차 행렬')\n",
        "  print(confusion)\n",
        "  # f1 score print 추가\n",
        "  print('정확도: {0:.4f}, 정밀도: {1:.4f}, 재현율: {2:.4f}, F1:{3:.4f}'.format(accuracy, precision, recall, f1))\n",
        "\n",
        "thresholds = [0.4, 0.45, 0.50, 0.55, 0.60]\n",
        "pred_proba = lr_clf.predict_proba(X_test)\n",
        "get_eval_by_threshold(y_test, pred_proba[:, 1].reshape(-1, 1), thresholds)"
      ],
      "metadata": {
        "colab": {
          "base_uri": "https://localhost:8080/"
        },
        "id": "32PcFS7Y7xs9",
        "outputId": "b02d2ab1-f71d-4b49-e052-73071c3632ee"
      },
      "execution_count": 47,
      "outputs": [
        {
          "output_type": "stream",
          "name": "stdout",
          "text": [
            "임곗값: 0.4\n",
            "오차 행렬\n",
            "[[97 21]\n",
            " [11 50]]\n",
            "정확도: 0.8212, 정밀도: 0.7042, 재현율: 0.8197, F1:0.7576\n",
            "임곗값: 0.45\n",
            "오차 행렬\n",
            "[[105  13]\n",
            " [ 13  48]]\n",
            "정확도: 0.8547, 정밀도: 0.7869, 재현율: 0.7869, F1:0.7869\n",
            "임곗값: 0.5\n",
            "오차 행렬\n",
            "[[108  10]\n",
            " [ 14  47]]\n",
            "정확도: 0.8659, 정밀도: 0.8246, 재현율: 0.7705, F1:0.7966\n",
            "임곗값: 0.55\n",
            "오차 행렬\n",
            "[[111   7]\n",
            " [ 16  45]]\n",
            "정확도: 0.8715, 정밀도: 0.8654, 재현율: 0.7377, F1:0.7965\n",
            "임곗값: 0.6\n",
            "오차 행렬\n",
            "[[113   5]\n",
            " [ 17  44]]\n",
            "정확도: 0.8771, 정밀도: 0.8980, 재현율: 0.7213, F1:0.8000\n"
          ]
        }
      ]
    },
    {
      "cell_type": "markdown",
      "source": [
        "## **ROC 곡선과 AUC**"
      ],
      "metadata": {
        "id": "6NQDJhUN8Xps"
      }
    },
    {
      "cell_type": "code",
      "source": [
        "from sklearn.metrics import roc_curve\n",
        "\n",
        "# 레이블 값이 1 일때의 예측 확률을 추출\n",
        "pred_proba_class1 = lr_clf.predict_proba(X_test)[:, 1]\n",
        "\n",
        "fprs , tprs , thresholds = roc_curve(y_test, pred_proba_class1)\n",
        "# 반환된 임곗값 배열에서 샘플로 데이터를 추출하되, 임곗값을 5 Step으로 추출.\n",
        "# thresholds[0]은 max(예측확률)+1로 임의 설정됨. 이를 제외하기 위해 np.arange는 1부터 시작\n",
        "thr_index = np.arange(1, thresholds.shape[0], 5)\n",
        "print('샘플 추출을 위한 임곗값 배열의 index:', thr_index)\n",
        "print('샘플 index로 추출한 임곗값:', np. round(thresholds [thr_index ], 2))\n",
        "\n",
        "# 5 step 단위로 추출된 임계값에 따른 FPR, TPR 값\n",
        "print('샘플 임곗값별 FPR:', np.round(fprs[thr_index], 3))\n",
        "print('샘플 임곗값별 TPR:', np.round(tprs[thr_index], 3))"
      ],
      "metadata": {
        "colab": {
          "base_uri": "https://localhost:8080/"
        },
        "id": "t6BTUL2h8bkK",
        "outputId": "70d5d3bd-4fc9-4f4a-cac9-520e2677ac49"
      },
      "execution_count": 53,
      "outputs": [
        {
          "output_type": "stream",
          "name": "stdout",
          "text": [
            "샘플 추출을 위한 임곗값 배열의 index: [ 1  6 11 16 21 26 31 36 41 46]\n",
            "샘플 index로 추출한 임곗값: [0.94 0.73 0.62 0.52 0.44 0.28 0.15 0.14 0.13 0.12]\n",
            "샘플 임곗값별 FPR: [0.    0.008 0.025 0.076 0.127 0.254 0.576 0.61  0.746 0.847]\n",
            "샘플 임곗값별 TPR: [0.016 0.492 0.705 0.738 0.803 0.885 0.902 0.951 0.967 1.   ]\n"
          ]
        }
      ]
    },
    {
      "cell_type": "code",
      "source": [
        "def roc_curve_plot(y_test, pred_proba_c1):\n",
        "  # 임곗값에 따른 FPR, TPR 값을 반환받음.\n",
        "  fprs, tprs, thresholds = roc_curve(y_test, pred_proba_c1)\n",
        "  # ROC 곡선을 그래프 곡선으로 그림 .\n",
        "  plt.plot(fprs, tprs, label='R0C')\n",
        "  # 가운데 대각선 직선을 그림.\n",
        "  plt.plot([0, 1 ], [0, 1 ], 'k-', label='Random')\n",
        "\n",
        "  # FPR X 축의 Scale을 0.1 단위로 변경, X, Y축 명 설정 등\n",
        "  start, end = plt.xlim()\n",
        "  plt.xticks(np.round(np.arange(start, end, 0.1), 2))\n",
        "  plt.xlim(0, 1); plt.ylim(0, 1)\n",
        "  plt.xlabel('FPR( 1 — Specificity )'); plt.ylabel('TPR( Recall)')\n",
        "  plt.legend()\n",
        "roc_curve_plot(y_test, pred_proba[:, 1 ] )"
      ],
      "metadata": {
        "colab": {
          "base_uri": "https://localhost:8080/",
          "height": 455
        },
        "id": "rsHkHIyw9E-C",
        "outputId": "bf39c977-0aa0-4172-baf4-e826d6332617"
      },
      "execution_count": 66,
      "outputs": [
        {
          "output_type": "display_data",
          "data": {
            "text/plain": [
              "<Figure size 640x480 with 1 Axes>"
            ],
            "image/png": "[encoded data removed]"
          },
          "metadata": {}
        }
      ]
    },
    {
      "cell_type": "code",
      "source": [
        "from sklearn.metrics import roc_auc_score\n",
        "\n",
        "pred_proba = lr_clf.predict_proba(X_test)[:, 1]\n",
        "roc_score = roc_auc_score(y_test, pred_proba)\n",
        "print('ROC AUC 값: {0:.4f}'.format(roc_score))"
      ],
      "metadata": {
        "colab": {
          "base_uri": "https://localhost:8080/"
        },
        "id": "RHqCo_rD99uz",
        "outputId": "00680020-c56e-4ad4-ceda-f1a6b0966d6f"
      },
      "execution_count": 68,
      "outputs": [
        {
          "output_type": "stream",
          "name": "stdout",
          "text": [
            "ROC AUC 값: 0.8987\n"
          ]
        }
      ]
    },
    {
      "cell_type": "code",
      "source": [
        "def get_clf_eval(y_test, pred=None, pred_proba=None):\n",
        "  confusion = confusion_matrix(y_test, pred)\n",
        "  accuracy = accuracy_score(y_test , pred)\n",
        "  precision = precision_score(y_test , pred)\n",
        "  recall = recall_score(y_test , pred)\n",
        "  f1 = f1_score(y_test,pred)\n",
        "  # ROC-AUC 추가\n",
        "  roc_auc = roc_auc_score(y_test, pred_proba)\n",
        "  print('오차 행렬')\n",
        "  print(confusion)\n",
        "  # ROC-AUC print 추가\n",
        "  print('정확도: {0:.4f}, 정밀도: {1:.4f}, 재현율: {2:.4f}, \\\n",
        "    F1: {3:.4f}, AUC:{4:.4f}'.format(accuracy, precision, recall, f1, roc_auc))"
      ],
      "metadata": {
        "id": "RGyztesw-FPH"
      },
      "execution_count": 73,
      "outputs": []
    },
    {
      "cell_type": "markdown",
      "source": [
        "## **피마 인디언 당뇨병 예측**"
      ],
      "metadata": {
        "id": "71i0myER-e5a"
      }
    },
    {
      "cell_type": "code",
      "source": [
        "import numpy as np\n",
        "import pandas as pd\n",
        "import matplotlib.pyplot as pit\n",
        "%matplotlib inline\n",
        "\n",
        "from sklearn.model_selection import train_test_split\n",
        "from sklearn.metrics import accuracy_score, precision_score, recall_score, roc_auc_score\n",
        "from sklearn.metrics import f1_score, confusion_matrix, precision_recall_curve, roc_curve\n",
        "from sklearn.preprocessing import StandardScaler\n",
        "from sklearn.linear_model import LogisticRegression\n",
        "\n",
        "diabetes_data = pd.read_csv('/content/drive/MyDrive/EWHA/ESAA/diabetes.csv')\n",
        "print(diabetes_data['Outcome'].value_counts())\n",
        "diabetes_data.head(3)"
      ],
      "metadata": {
        "colab": {
          "base_uri": "https://localhost:8080/",
          "height": 216
        },
        "id": "KYMFVPiQ_B3m",
        "outputId": "55ea2515-5efd-468b-e725-fdbec4a694d0"
      },
      "execution_count": 74,
      "outputs": [
        {
          "output_type": "stream",
          "name": "stdout",
          "text": [
            "Outcome\n",
            "0    500\n",
            "1    268\n",
            "Name: count, dtype: int64\n"
          ]
        },
        {
          "output_type": "execute_result",
          "data": {
            "text/plain": [
              "   Pregnancies  Glucose  BloodPressure  SkinThickness  Insulin   BMI  \\\n",
              "0            6      148             72             35        0  33.6   \n",
              "1            1       85             66             29        0  26.6   \n",
              "2            8      183             64              0        0  23.3   \n",
              "\n",
              "   DiabetesPedigreeFunction  Age  Outcome  \n",
              "0                     0.627   50        1  \n",
              "1                     0.351   31        0  \n",
              "2                     0.672   32        1  "
            ],
            "text/html": [
              "\n",
              "  <div id=\"df-6f4acec6-3e53-453c-88fa-891d1ebe89f3\" class=\"colab-df-container\">\n",
              "    <div>\n",
              "<style scoped>\n",
              "    .dataframe tbody tr th:only-of-type {\n",
              "        vertical-align: middle;\n",
              "    }\n",
              "\n",
              "    .dataframe tbody tr th {\n",
              "        vertical-align: top;\n",
              "    }\n",
              "\n",
              "    .dataframe thead th {\n",
              "        text-align: right;\n",
              "    }\n",
              "</style>\n",
              "<table border=\"1\" class=\"dataframe\">\n",
              "  <thead>\n",
              "    <tr style=\"text-align: right;\">\n",
              "      <th></th>\n",
              "      <th>Pregnancies</th>\n",
              "      <th>Glucose</th>\n",
              "      <th>BloodPressure</th>\n",
              "      <th>SkinThickness</th>\n",
              "      <th>Insulin</th>\n",
              "      <th>BMI</th>\n",
              "      <th>DiabetesPedigreeFunction</th>\n",
              "      <th>Age</th>\n",
              "      <th>Outcome</th>\n",
              "    </tr>\n",
              "  </thead>\n",
              "  <tbody>\n",
              "    <tr>\n",
              "      <th>0</th>\n",
              "      <td>6</td>\n",
              "      <td>148</td>\n",
              "      <td>72</td>\n",
              "      <td>35</td>\n",
              "      <td>0</td>\n",
              "      <td>33.6</td>\n",
              "      <td>0.627</td>\n",
              "      <td>50</td>\n",
              "      <td>1</td>\n",
              "    </tr>\n",
              "    <tr>\n",
              "      <th>1</th>\n",
              "      <td>1</td>\n",
              "      <td>85</td>\n",
              "      <td>66</td>\n",
              "      <td>29</td>\n",
              "      <td>0</td>\n",
              "      <td>26.6</td>\n",
              "      <td>0.351</td>\n",
              "      <td>31</td>\n",
              "      <td>0</td>\n",
              "    </tr>\n",
              "    <tr>\n",
              "      <th>2</th>\n",
              "      <td>8</td>\n",
              "      <td>183</td>\n",
              "      <td>64</td>\n",
              "      <td>0</td>\n",
              "      <td>0</td>\n",
              "      <td>23.3</td>\n",
              "      <td>0.672</td>\n",
              "      <td>32</td>\n",
              "      <td>1</td>\n",
              "    </tr>\n",
              "  </tbody>\n",
              "</table>\n",
              "</div>\n",
              "    <div class=\"colab-df-buttons\">\n",
              "\n",
              "  <div class=\"colab-df-container\">\n",
              "    <button class=\"colab-df-convert\" onclick=\"convertToInteractive('df-6f4acec6-3e53-453c-88fa-891d1ebe89f3')\"\n",
              "            title=\"Convert this dataframe to an interactive table.\"\n",
              "            style=\"display:none;\">\n",
              "\n",
              "  <svg xmlns=\"http://www.w3.org/2000/svg\" height=\"24px\" viewBox=\"0 -960 960 960\">\n",
              "    <path d=\"M120-120v-720h720v720H120Zm60-500h600v-160H180v160Zm220 220h160v-160H400v160Zm0 220h160v-160H400v160ZM180-400h160v-160H180v160Zm440 0h160v-160H620v160ZM180-180h160v-160H180v160Zm440 0h160v-160H620v160Z\"/>\n",
              "  </svg>\n",
              "    </button>\n",
              "\n",
              "  <style>\n",
              "    .colab-df-container {\n",
              "      display:flex;\n",
              "      gap: 12px;\n",
              "    }\n",
              "\n",
              "    .colab-df-convert {\n",
              "      background-color: #E8F0FE;\n",
              "      border: none;\n",
              "      border-radius: 50%;\n",
              "      cursor: pointer;\n",
              "      display: none;\n",
              "      fill: #1967D2;\n",
              "      height: 32px;\n",
              "      padding: 0 0 0 0;\n",
              "      width: 32px;\n",
              "    }\n",
              "\n",
              "    .colab-df-convert:hover {\n",
              "      background-color: #E2EBFA;\n",
              "      box-shadow: 0px 1px 2px rgba(60, 64, 67, 0.3), 0px 1px 3px 1px rgba(60, 64, 67, 0.15);\n",
              "      fill: #174EA6;\n",
              "    }\n",
              "\n",
              "    .colab-df-buttons div {\n",
              "      margin-bottom: 4px;\n",
              "    }\n",
              "\n",
              "    [theme=dark] .colab-df-convert {\n",
              "      background-color: #3B4455;\n",
              "      fill: #D2E3FC;\n",
              "    }\n",
              "\n",
              "    [theme=dark] .colab-df-convert:hover {\n",
              "      background-color: #434B5C;\n",
              "      box-shadow: 0px 1px 3px 1px rgba(0, 0, 0, 0.15);\n",
              "      filter: drop-shadow(0px 1px 2px rgba(0, 0, 0, 0.3));\n",
              "      fill: #FFFFFF;\n",
              "    }\n",
              "  </style>\n",
              "\n",
              "    <script>\n",
              "      const buttonEl =\n",
              "        document.querySelector('#df-6f4acec6-3e53-453c-88fa-891d1ebe89f3 button.colab-df-convert');\n",
              "      buttonEl.style.display =\n",
              "        google.colab.kernel.accessAllowed ? 'block' : 'none';\n",
              "\n",
              "      async function convertToInteractive(key) {\n",
              "        const element = document.querySelector('#df-6f4acec6-3e53-453c-88fa-891d1ebe89f3');\n",
              "        const dataTable =\n",
              "          await google.colab.kernel.invokeFunction('convertToInteractive',\n",
              "                                                    [key], {});\n",
              "        if (!dataTable) return;\n",
              "\n",
              "        const docLinkHtml = 'Like what you see? Visit the ' +\n",
              "          '<a target=\"_blank\" href=https://colab.research.google.com/notebooks/data_table.ipynb>data table notebook</a>'\n",
              "          + ' to learn more about interactive tables.';\n",
              "        element.innerHTML = '';\n",
              "        dataTable['output_type'] = 'display_data';\n",
              "        await google.colab.output.renderOutput(dataTable, element);\n",
              "        const docLink = document.createElement('div');\n",
              "        docLink.innerHTML = docLinkHtml;\n",
              "        element.appendChild(docLink);\n",
              "      }\n",
              "    </script>\n",
              "  </div>\n",
              "\n",
              "\n",
              "<div id=\"df-7fa5616e-2fcf-4d24-8cdd-e62899055b34\">\n",
              "  <button class=\"colab-df-quickchart\" onclick=\"quickchart('df-7fa5616e-2fcf-4d24-8cdd-e62899055b34')\"\n",
              "            title=\"Suggest charts\"\n",
              "            style=\"display:none;\">\n",
              "\n",
              "<svg xmlns=\"http://www.w3.org/2000/svg\" height=\"24px\"viewBox=\"0 0 24 24\"\n",
              "     width=\"24px\">\n",
              "    <g>\n",
              "        <path d=\"M19 3H5c-1.1 0-2 .9-2 2v14c0 1.1.9 2 2 2h14c1.1 0 2-.9 2-2V5c0-1.1-.9-2-2-2zM9 17H7v-7h2v7zm4 0h-2V7h2v10zm4 0h-2v-4h2v4z\"/>\n",
              "    </g>\n",
              "</svg>\n",
              "  </button>\n",
              "\n",
              "<style>\n",
              "  .colab-df-quickchart {\n",
              "      --bg-color: #E8F0FE;\n",
              "      --fill-color: #1967D2;\n",
              "      --hover-bg-color: #E2EBFA;\n",
              "      --hover-fill-color: #174EA6;\n",
              "      --disabled-fill-color: #AAA;\n",
              "      --disabled-bg-color: #DDD;\n",
              "  }\n",
              "\n",
              "  [theme=dark] .colab-df-quickchart {\n",
              "      --bg-color: #3B4455;\n",
              "      --fill-color: #D2E3FC;\n",
              "      --hover-bg-color: #434B5C;\n",
              "      --hover-fill-color: #FFFFFF;\n",
              "      --disabled-bg-color: #3B4455;\n",
              "      --disabled-fill-color: #666;\n",
              "  }\n",
              "\n",
              "  .colab-df-quickchart {\n",
              "    background-color: var(--bg-color);\n",
              "    border: none;\n",
              "    border-radius: 50%;\n",
              "    cursor: pointer;\n",
              "    display: none;\n",
              "    fill: var(--fill-color);\n",
              "    height: 32px;\n",
              "    padding: 0;\n",
              "    width: 32px;\n",
              "  }\n",
              "\n",
              "  .colab-df-quickchart:hover {\n",
              "    background-color: var(--hover-bg-color);\n",
              "    box-shadow: 0 1px 2px rgba(60, 64, 67, 0.3), 0 1px 3px 1px rgba(60, 64, 67, 0.15);\n",
              "    fill: var(--button-hover-fill-color);\n",
              "  }\n",
              "\n",
              "  .colab-df-quickchart-complete:disabled,\n",
              "  .colab-df-quickchart-complete:disabled:hover {\n",
              "    background-color: var(--disabled-bg-color);\n",
              "    fill: var(--disabled-fill-color);\n",
              "    box-shadow: none;\n",
              "  }\n",
              "\n",
              "  .colab-df-spinner {\n",
              "    border: 2px solid var(--fill-color);\n",
              "    border-color: transparent;\n",
              "    border-bottom-color: var(--fill-color);\n",
              "    animation:\n",
              "      spin 1s steps(1) infinite;\n",
              "  }\n",
              "\n",
              "  @keyframes spin {\n",
              "    0% {\n",
              "      border-color: transparent;\n",
              "      border-bottom-color: var(--fill-color);\n",
              "      border-left-color: var(--fill-color);\n",
              "    }\n",
              "    20% {\n",
              "      border-color: transparent;\n",
              "      border-left-color: var(--fill-color);\n",
              "      border-top-color: var(--fill-color);\n",
              "    }\n",
              "    30% {\n",
              "      border-color: transparent;\n",
              "      border-left-color: var(--fill-color);\n",
              "      border-top-color: var(--fill-color);\n",
              "      border-right-color: var(--fill-color);\n",
              "    }\n",
              "    40% {\n",
              "      border-color: transparent;\n",
              "      border-right-color: var(--fill-color);\n",
              "      border-top-color: var(--fill-color);\n",
              "    }\n",
              "    60% {\n",
              "      border-color: transparent;\n",
              "      border-right-color: var(--fill-color);\n",
              "    }\n",
              "    80% {\n",
              "      border-color: transparent;\n",
              "      border-right-color: var(--fill-color);\n",
              "      border-bottom-color: var(--fill-color);\n",
              "    }\n",
              "    90% {\n",
              "      border-color: transparent;\n",
              "      border-bottom-color: var(--fill-color);\n",
              "    }\n",
              "  }\n",
              "</style>\n",
              "\n",
              "  <script>\n",
              "    async function quickchart(key) {\n",
              "      const quickchartButtonEl =\n",
              "        document.querySelector('#' + key + ' button');\n",
              "      quickchartButtonEl.disabled = true;  // To prevent multiple clicks.\n",
              "      quickchartButtonEl.classList.add('colab-df-spinner');\n",
              "      try {\n",
              "        const charts = await google.colab.kernel.invokeFunction(\n",
              "            'suggestCharts', [key], {});\n",
              "      } catch (error) {\n",
              "        console.error('Error during call to suggestCharts:', error);\n",
              "      }\n",
              "      quickchartButtonEl.classList.remove('colab-df-spinner');\n",
              "      quickchartButtonEl.classList.add('colab-df-quickchart-complete');\n",
              "    }\n",
              "    (() => {\n",
              "      let quickchartButtonEl =\n",
              "        document.querySelector('#df-7fa5616e-2fcf-4d24-8cdd-e62899055b34 button');\n",
              "      quickchartButtonEl.style.display =\n",
              "        google.colab.kernel.accessAllowed ? 'block' : 'none';\n",
              "    })();\n",
              "  </script>\n",
              "</div>\n",
              "\n",
              "    </div>\n",
              "  </div>\n"
            ],
            "application/vnd.google.colaboratory.intrinsic+json": {
              "type": "dataframe",
              "variable_name": "diabetes_data",
              "summary": "{\n  \"name\": \"diabetes_data\",\n  \"rows\": 768,\n  \"fields\": [\n    {\n      \"column\": \"Pregnancies\",\n      \"properties\": {\n        \"dtype\": \"number\",\n        \"std\": 3,\n        \"min\": 0,\n        \"max\": 17,\n        \"num_unique_values\": 17,\n        \"samples\": [\n          6,\n          1,\n          3\n        ],\n        \"semantic_type\": \"\",\n        \"description\": \"\"\n      }\n    },\n    {\n      \"column\": \"Glucose\",\n      \"properties\": {\n        \"dtype\": \"number\",\n        \"std\": 31,\n        \"min\": 0,\n        \"max\": 199,\n        \"num_unique_values\": 136,\n        \"samples\": [\n          151,\n          101,\n          112\n        ],\n        \"semantic_type\": \"\",\n        \"description\": \"\"\n      }\n    },\n    {\n      \"column\": \"BloodPressure\",\n      \"properties\": {\n        \"dtype\": \"number\",\n        \"std\": 19,\n        \"min\": 0,\n        \"max\": 122,\n        \"num_unique_values\": 47,\n        \"samples\": [\n          86,\n          46,\n          85\n        ],\n        \"semantic_type\": \"\",\n        \"description\": \"\"\n      }\n    },\n    {\n      \"column\": \"SkinThickness\",\n      \"properties\": {\n        \"dtype\": \"number\",\n        \"std\": 15,\n        \"min\": 0,\n        \"max\": 99,\n        \"num_unique_values\": 51,\n        \"samples\": [\n          7,\n          12,\n          48\n        ],\n        \"semantic_type\": \"\",\n        \"description\": \"\"\n      }\n    },\n    {\n      \"column\": \"Insulin\",\n      \"properties\": {\n        \"dtype\": \"number\",\n        \"std\": 115,\n        \"min\": 0,\n        \"max\": 846,\n        \"num_unique_values\": 186,\n        \"samples\": [\n          52,\n          41,\n          183\n        ],\n        \"semantic_type\": \"\",\n        \"description\": \"\"\n      }\n    },\n    {\n      \"column\": \"BMI\",\n      \"properties\": {\n        \"dtype\": \"number\",\n        \"std\": 7.884160320375446,\n        \"min\": 0.0,\n        \"max\": 67.1,\n        \"num_unique_values\": 248,\n        \"samples\": [\n          19.9,\n          31.0,\n          38.1\n        ],\n        \"semantic_type\": \"\",\n        \"description\": \"\"\n      }\n    },\n    {\n      \"column\": \"DiabetesPedigreeFunction\",\n      \"properties\": {\n        \"dtype\": \"number\",\n        \"std\": 0.3313285950127749,\n        \"min\": 0.078,\n        \"max\": 2.42,\n        \"num_unique_values\": 517,\n        \"samples\": [\n          1.731,\n          0.426,\n          0.138\n        ],\n        \"semantic_type\": \"\",\n        \"description\": \"\"\n      }\n    },\n    {\n      \"column\": \"Age\",\n      \"properties\": {\n        \"dtype\": \"number\",\n        \"std\": 11,\n        \"min\": 21,\n        \"max\": 81,\n        \"num_unique_values\": 52,\n        \"samples\": [\n          60,\n          47,\n          72\n        ],\n        \"semantic_type\": \"\",\n        \"description\": \"\"\n      }\n    },\n    {\n      \"column\": \"Outcome\",\n      \"properties\": {\n        \"dtype\": \"number\",\n        \"std\": 0,\n        \"min\": 0,\n        \"max\": 1,\n        \"num_unique_values\": 2,\n        \"samples\": [\n          0,\n          1\n        ],\n        \"semantic_type\": \"\",\n        \"description\": \"\"\n      }\n    }\n  ]\n}"
            }
          },
          "metadata": {},
          "execution_count": 74
        }
      ]
    },
    {
      "cell_type": "code",
      "source": [
        "diabetes_data.info( )"
      ],
      "metadata": {
        "colab": {
          "base_uri": "https://localhost:8080/"
        },
        "id": "Xc_IdRmx_PqY",
        "outputId": "26bdb924-85f2-4bf6-b334-291712b4afe3"
      },
      "execution_count": 75,
      "outputs": [
        {
          "output_type": "stream",
          "name": "stdout",
          "text": [
            "<class 'pandas.core.frame.DataFrame'>\n",
            "RangeIndex: 768 entries, 0 to 767\n",
            "Data columns (total 9 columns):\n",
            " #   Column                    Non-Null Count  Dtype  \n",
            "---  ------                    --------------  -----  \n",
            " 0   Pregnancies               768 non-null    int64  \n",
            " 1   Glucose                   768 non-null    int64  \n",
            " 2   BloodPressure             768 non-null    int64  \n",
            " 3   SkinThickness             768 non-null    int64  \n",
            " 4   Insulin                   768 non-null    int64  \n",
            " 5   BMI                       768 non-null    float64\n",
            " 6   DiabetesPedigreeFunction  768 non-null    float64\n",
            " 7   Age                       768 non-null    int64  \n",
            " 8   Outcome                   768 non-null    int64  \n",
            "dtypes: float64(2), int64(7)\n",
            "memory usage: 54.1 KB\n"
          ]
        }
      ]
    },
    {
      "cell_type": "code",
      "source": [
        "# 피처 데이터 세트 x, 레이블 데이터 세트 우를 추출.\n",
        "# 맨 끝이 Outcome 칼럼으로 레이블 값임. 칼럼 위치 -1 을 이용해 추출\n",
        "X = diabetes_data.iloc[:, :-1]\n",
        "y = diabetes_data.iloc[:, -1]\n",
        "\n",
        "X_train, X_test, y_train, y_test = train_test_split(X, y, test_size = 0.2, random_state = 156, stratify=y)\n",
        "\n",
        "# 로지스틱 회귀로 학습, 예측 및 평가 수행.\n",
        "lr_clf = LogisticRegression(solver='liblinear')\n",
        "lr_clf.fit(X_train, y_train)\n",
        "pred = lr_clf.predict(X_test)\n",
        "pred_proba = lr_clf.predict_proba(X_test)[:, 1 ]\n",
        "\n",
        "get_clf_eval(y_test, pred, pred_proba)"
      ],
      "metadata": {
        "colab": {
          "base_uri": "https://localhost:8080/"
        },
        "id": "7cF6yFAg_Snp",
        "outputId": "2f6f4dab-cc47-43d1-f60a-9326031fcb9e"
      },
      "execution_count": 76,
      "outputs": [
        {
          "output_type": "stream",
          "name": "stdout",
          "text": [
            "오차 행렬\n",
            "[[87 13]\n",
            " [22 32]]\n",
            "정확도: 0.7727, 정밀도: 0.7111, 재현율: 0.5926,     F1: 0.6465, AUC:0.8083\n"
          ]
        }
      ]
    },
    {
      "cell_type": "code",
      "source": [
        "pred_proba_c1 = lr_clf.predict_proba(X_test)[:, 1 ]\n",
        "precision_recall_curve_plot(y_test, pred_proba_c1)"
      ],
      "metadata": {
        "colab": {
          "base_uri": "https://localhost:8080/",
          "height": 542
        },
        "id": "ZwBu2hUj_dUX",
        "outputId": "9823ca84-743f-42a0-a78b-e304005e4d0e"
      },
      "execution_count": 77,
      "outputs": [
        {
          "output_type": "display_data",
          "data": {
            "text/plain": [
              "<Figure size 800x600 with 1 Axes>"
            ],
            "image/png": "[encoded data removed]"
          },
          "metadata": {}
        }
      ]
    },
    {
      "cell_type": "code",
      "source": [
        "diabetes_data.describe()"
      ],
      "metadata": {
        "colab": {
          "base_uri": "https://localhost:8080/",
          "height": 300
        },
        "id": "PZ5Cqxiz_gP2",
        "outputId": "00edf14e-c3aa-417a-d80e-4b7226521c95"
      },
      "execution_count": 78,
      "outputs": [
        {
          "output_type": "execute_result",
          "data": {
            "text/plain": [
              "       Pregnancies     Glucose  BloodPressure  SkinThickness     Insulin  \\\n",
              "count   768.000000  768.000000     768.000000     768.000000  768.000000   \n",
              "mean      3.845052  120.894531      69.105469      20.536458   79.799479   \n",
              "std       3.369578   31.972618      19.355807      15.952218  115.244002   \n",
              "min       0.000000    0.000000       0.000000       0.000000    0.000000   \n",
              "25%       1.000000   99.000000      62.000000       0.000000    0.000000   \n",
              "50%       3.000000  117.000000      72.000000      23.000000   30.500000   \n",
              "75%       6.000000  140.250000      80.000000      32.000000  127.250000   \n",
              "max      17.000000  199.000000     122.000000      99.000000  846.000000   \n",
              "\n",
              "              BMI  DiabetesPedigreeFunction         Age     Outcome  \n",
              "count  768.000000                768.000000  768.000000  768.000000  \n",
              "mean    31.992578                  0.471876   33.240885    0.348958  \n",
              "std      7.884160                  0.331329   11.760232    0.476951  \n",
              "min      0.000000                  0.078000   21.000000    0.000000  \n",
              "25%     27.300000                  0.243750   24.000000    0.000000  \n",
              "50%     32.000000                  0.372500   29.000000    0.000000  \n",
              "75%     36.600000                  0.626250   41.000000    1.000000  \n",
              "max     67.100000                  2.420000   81.000000    1.000000  "
            ],
            "text/html": [
              "\n",
              "  <div id=\"df-50c7d2b2-6828-46b8-97fd-6737d62a3047\" class=\"colab-df-container\">\n",
              "    <div>\n",
              "<style scoped>\n",
              "    .dataframe tbody tr th:only-of-type {\n",
              "        vertical-align: middle;\n",
              "    }\n",
              "\n",
              "    .dataframe tbody tr th {\n",
              "        vertical-align: top;\n",
              "    }\n",
              "\n",
              "    .dataframe thead th {\n",
              "        text-align: right;\n",
              "    }\n",
              "</style>\n",
              "<table border=\"1\" class=\"dataframe\">\n",
              "  <thead>\n",
              "    <tr style=\"text-align: right;\">\n",
              "      <th></th>\n",
              "      <th>Pregnancies</th>\n",
              "      <th>Glucose</th>\n",
              "      <th>BloodPressure</th>\n",
              "      <th>SkinThickness</th>\n",
              "      <th>Insulin</th>\n",
              "      <th>BMI</th>\n",
              "      <th>DiabetesPedigreeFunction</th>\n",
              "      <th>Age</th>\n",
              "      <th>Outcome</th>\n",
              "    </tr>\n",
              "  </thead>\n",
              "  <tbody>\n",
              "    <tr>\n",
              "      <th>count</th>\n",
              "      <td>768.000000</td>\n",
              "      <td>768.000000</td>\n",
              "      <td>768.000000</td>\n",
              "      <td>768.000000</td>\n",
              "      <td>768.000000</td>\n",
              "      <td>768.000000</td>\n",
              "      <td>768.000000</td>\n",
              "      <td>768.000000</td>\n",
              "      <td>768.000000</td>\n",
              "    </tr>\n",
              "    <tr>\n",
              "      <th>mean</th>\n",
              "      <td>3.845052</td>\n",
              "      <td>120.894531</td>\n",
              "      <td>69.105469</td>\n",
              "      <td>20.536458</td>\n",
              "      <td>79.799479</td>\n",
              "      <td>31.992578</td>\n",
              "      <td>0.471876</td>\n",
              "      <td>33.240885</td>\n",
              "      <td>0.348958</td>\n",
              "    </tr>\n",
              "    <tr>\n",
              "      <th>std</th>\n",
              "      <td>3.369578</td>\n",
              "      <td>31.972618</td>\n",
              "      <td>19.355807</td>\n",
              "      <td>15.952218</td>\n",
              "      <td>115.244002</td>\n",
              "      <td>7.884160</td>\n",
              "      <td>0.331329</td>\n",
              "      <td>11.760232</td>\n",
              "      <td>0.476951</td>\n",
              "    </tr>\n",
              "    <tr>\n",
              "      <th>min</th>\n",
              "      <td>0.000000</td>\n",
              "      <td>0.000000</td>\n",
              "      <td>0.000000</td>\n",
              "      <td>0.000000</td>\n",
              "      <td>0.000000</td>\n",
              "      <td>0.000000</td>\n",
              "      <td>0.078000</td>\n",
              "      <td>21.000000</td>\n",
              "      <td>0.000000</td>\n",
              "    </tr>\n",
              "    <tr>\n",
              "      <th>25%</th>\n",
              "      <td>1.000000</td>\n",
              "      <td>99.000000</td>\n",
              "      <td>62.000000</td>\n",
              "      <td>0.000000</td>\n",
              "      <td>0.000000</td>\n",
              "      <td>27.300000</td>\n",
              "      <td>0.243750</td>\n",
              "      <td>24.000000</td>\n",
              "      <td>0.000000</td>\n",
              "    </tr>\n",
              "    <tr>\n",
              "      <th>50%</th>\n",
              "      <td>3.000000</td>\n",
              "      <td>117.000000</td>\n",
              "      <td>72.000000</td>\n",
              "      <td>23.000000</td>\n",
              "      <td>30.500000</td>\n",
              "      <td>32.000000</td>\n",
              "      <td>0.372500</td>\n",
              "      <td>29.000000</td>\n",
              "      <td>0.000000</td>\n",
              "    </tr>\n",
              "    <tr>\n",
              "      <th>75%</th>\n",
              "      <td>6.000000</td>\n",
              "      <td>140.250000</td>\n",
              "      <td>80.000000</td>\n",
              "      <td>32.000000</td>\n",
              "      <td>127.250000</td>\n",
              "      <td>36.600000</td>\n",
              "      <td>0.626250</td>\n",
              "      <td>41.000000</td>\n",
              "      <td>1.000000</td>\n",
              "    </tr>\n",
              "    <tr>\n",
              "      <th>max</th>\n",
              "      <td>17.000000</td>\n",
              "      <td>199.000000</td>\n",
              "      <td>122.000000</td>\n",
              "      <td>99.000000</td>\n",
              "      <td>846.000000</td>\n",
              "      <td>67.100000</td>\n",
              "      <td>2.420000</td>\n",
              "      <td>81.000000</td>\n",
              "      <td>1.000000</td>\n",
              "    </tr>\n",
              "  </tbody>\n",
              "</table>\n",
              "</div>\n",
              "    <div class=\"colab-df-buttons\">\n",
              "\n",
              "  <div class=\"colab-df-container\">\n",
              "    <button class=\"colab-df-convert\" onclick=\"convertToInteractive('df-50c7d2b2-6828-46b8-97fd-6737d62a3047')\"\n",
              "            title=\"Convert this dataframe to an interactive table.\"\n",
              "            style=\"display:none;\">\n",
              "\n",
              "  <svg xmlns=\"http://www.w3.org/2000/svg\" height=\"24px\" viewBox=\"0 -960 960 960\">\n",
              "    <path d=\"M120-120v-720h720v720H120Zm60-500h600v-160H180v160Zm220 220h160v-160H400v160Zm0 220h160v-160H400v160ZM180-400h160v-160H180v160Zm440 0h160v-160H620v160ZM180-180h160v-160H180v160Zm440 0h160v-160H620v160Z\"/>\n",
              "  </svg>\n",
              "    </button>\n",
              "\n",
              "  <style>\n",
              "    .colab-df-container {\n",
              "      display:flex;\n",
              "      gap: 12px;\n",
              "    }\n",
              "\n",
              "    .colab-df-convert {\n",
              "      background-color: #E8F0FE;\n",
              "      border: none;\n",
              "      border-radius: 50%;\n",
              "      cursor: pointer;\n",
              "      display: none;\n",
              "      fill: #1967D2;\n",
              "      height: 32px;\n",
              "      padding: 0 0 0 0;\n",
              "      width: 32px;\n",
              "    }\n",
              "\n",
              "    .colab-df-convert:hover {\n",
              "      background-color: #E2EBFA;\n",
              "      box-shadow: 0px 1px 2px rgba(60, 64, 67, 0.3), 0px 1px 3px 1px rgba(60, 64, 67, 0.15);\n",
              "      fill: #174EA6;\n",
              "    }\n",
              "\n",
              "    .colab-df-buttons div {\n",
              "      margin-bottom: 4px;\n",
              "    }\n",
              "\n",
              "    [theme=dark] .colab-df-convert {\n",
              "      background-color: #3B4455;\n",
              "      fill: #D2E3FC;\n",
              "    }\n",
              "\n",
              "    [theme=dark] .colab-df-convert:hover {\n",
              "      background-color: #434B5C;\n",
              "      box-shadow: 0px 1px 3px 1px rgba(0, 0, 0, 0.15);\n",
              "      filter: drop-shadow(0px 1px 2px rgba(0, 0, 0, 0.3));\n",
              "      fill: #FFFFFF;\n",
              "    }\n",
              "  </style>\n",
              "\n",
              "    <script>\n",
              "      const buttonEl =\n",
              "        document.querySelector('#df-50c7d2b2-6828-46b8-97fd-6737d62a3047 button.colab-df-convert');\n",
              "      buttonEl.style.display =\n",
              "        google.colab.kernel.accessAllowed ? 'block' : 'none';\n",
              "\n",
              "      async function convertToInteractive(key) {\n",
              "        const element = document.querySelector('#df-50c7d2b2-6828-46b8-97fd-6737d62a3047');\n",
              "        const dataTable =\n",
              "          await google.colab.kernel.invokeFunction('convertToInteractive',\n",
              "                                                    [key], {});\n",
              "        if (!dataTable) return;\n",
              "\n",
              "        const docLinkHtml = 'Like what you see? Visit the ' +\n",
              "          '<a target=\"_blank\" href=https://colab.research.google.com/notebooks/data_table.ipynb>data table notebook</a>'\n",
              "          + ' to learn more about interactive tables.';\n",
              "        element.innerHTML = '';\n",
              "        dataTable['output_type'] = 'display_data';\n",
              "        await google.colab.output.renderOutput(dataTable, element);\n",
              "        const docLink = document.createElement('div');\n",
              "        docLink.innerHTML = docLinkHtml;\n",
              "        element.appendChild(docLink);\n",
              "      }\n",
              "    </script>\n",
              "  </div>\n",
              "\n",
              "\n",
              "<div id=\"df-cc0a7285-7d9c-456e-b5a9-ef3ff41c234a\">\n",
              "  <button class=\"colab-df-quickchart\" onclick=\"quickchart('df-cc0a7285-7d9c-456e-b5a9-ef3ff41c234a')\"\n",
              "            title=\"Suggest charts\"\n",
              "            style=\"display:none;\">\n",
              "\n",
              "<svg xmlns=\"http://www.w3.org/2000/svg\" height=\"24px\"viewBox=\"0 0 24 24\"\n",
              "     width=\"24px\">\n",
              "    <g>\n",
              "        <path d=\"M19 3H5c-1.1 0-2 .9-2 2v14c0 1.1.9 2 2 2h14c1.1 0 2-.9 2-2V5c0-1.1-.9-2-2-2zM9 17H7v-7h2v7zm4 0h-2V7h2v10zm4 0h-2v-4h2v4z\"/>\n",
              "    </g>\n",
              "</svg>\n",
              "  </button>\n",
              "\n",
              "<style>\n",
              "  .colab-df-quickchart {\n",
              "      --bg-color: #E8F0FE;\n",
              "      --fill-color: #1967D2;\n",
              "      --hover-bg-color: #E2EBFA;\n",
              "      --hover-fill-color: #174EA6;\n",
              "      --disabled-fill-color: #AAA;\n",
              "      --disabled-bg-color: #DDD;\n",
              "  }\n",
              "\n",
              "  [theme=dark] .colab-df-quickchart {\n",
              "      --bg-color: #3B4455;\n",
              "      --fill-color: #D2E3FC;\n",
              "      --hover-bg-color: #434B5C;\n",
              "      --hover-fill-color: #FFFFFF;\n",
              "      --disabled-bg-color: #3B4455;\n",
              "      --disabled-fill-color: #666;\n",
              "  }\n",
              "\n",
              "  .colab-df-quickchart {\n",
              "    background-color: var(--bg-color);\n",
              "    border: none;\n",
              "    border-radius: 50%;\n",
              "    cursor: pointer;\n",
              "    display: none;\n",
              "    fill: var(--fill-color);\n",
              "    height: 32px;\n",
              "    padding: 0;\n",
              "    width: 32px;\n",
              "  }\n",
              "\n",
              "  .colab-df-quickchart:hover {\n",
              "    background-color: var(--hover-bg-color);\n",
              "    box-shadow: 0 1px 2px rgba(60, 64, 67, 0.3), 0 1px 3px 1px rgba(60, 64, 67, 0.15);\n",
              "    fill: var(--button-hover-fill-color);\n",
              "  }\n",
              "\n",
              "  .colab-df-quickchart-complete:disabled,\n",
              "  .colab-df-quickchart-complete:disabled:hover {\n",
              "    background-color: var(--disabled-bg-color);\n",
              "    fill: var(--disabled-fill-color);\n",
              "    box-shadow: none;\n",
              "  }\n",
              "\n",
              "  .colab-df-spinner {\n",
              "    border: 2px solid var(--fill-color);\n",
              "    border-color: transparent;\n",
              "    border-bottom-color: var(--fill-color);\n",
              "    animation:\n",
              "      spin 1s steps(1) infinite;\n",
              "  }\n",
              "\n",
              "  @keyframes spin {\n",
              "    0% {\n",
              "      border-color: transparent;\n",
              "      border-bottom-color: var(--fill-color);\n",
              "      border-left-color: var(--fill-color);\n",
              "    }\n",
              "    20% {\n",
              "      border-color: transparent;\n",
              "      border-left-color: var(--fill-color);\n",
              "      border-top-color: var(--fill-color);\n",
              "    }\n",
              "    30% {\n",
              "      border-color: transparent;\n",
              "      border-left-color: var(--fill-color);\n",
              "      border-top-color: var(--fill-color);\n",
              "      border-right-color: var(--fill-color);\n",
              "    }\n",
              "    40% {\n",
              "      border-color: transparent;\n",
              "      border-right-color: var(--fill-color);\n",
              "      border-top-color: var(--fill-color);\n",
              "    }\n",
              "    60% {\n",
              "      border-color: transparent;\n",
              "      border-right-color: var(--fill-color);\n",
              "    }\n",
              "    80% {\n",
              "      border-color: transparent;\n",
              "      border-right-color: var(--fill-color);\n",
              "      border-bottom-color: var(--fill-color);\n",
              "    }\n",
              "    90% {\n",
              "      border-color: transparent;\n",
              "      border-bottom-color: var(--fill-color);\n",
              "    }\n",
              "  }\n",
              "</style>\n",
              "\n",
              "  <script>\n",
              "    async function quickchart(key) {\n",
              "      const quickchartButtonEl =\n",
              "        document.querySelector('#' + key + ' button');\n",
              "      quickchartButtonEl.disabled = true;  // To prevent multiple clicks.\n",
              "      quickchartButtonEl.classList.add('colab-df-spinner');\n",
              "      try {\n",
              "        const charts = await google.colab.kernel.invokeFunction(\n",
              "            'suggestCharts', [key], {});\n",
              "      } catch (error) {\n",
              "        console.error('Error during call to suggestCharts:', error);\n",
              "      }\n",
              "      quickchartButtonEl.classList.remove('colab-df-spinner');\n",
              "      quickchartButtonEl.classList.add('colab-df-quickchart-complete');\n",
              "    }\n",
              "    (() => {\n",
              "      let quickchartButtonEl =\n",
              "        document.querySelector('#df-cc0a7285-7d9c-456e-b5a9-ef3ff41c234a button');\n",
              "      quickchartButtonEl.style.display =\n",
              "        google.colab.kernel.accessAllowed ? 'block' : 'none';\n",
              "    })();\n",
              "  </script>\n",
              "</div>\n",
              "\n",
              "    </div>\n",
              "  </div>\n"
            ],
            "application/vnd.google.colaboratory.intrinsic+json": {
              "type": "dataframe",
              "summary": "{\n  \"name\": \"diabetes_data\",\n  \"rows\": 8,\n  \"fields\": [\n    {\n      \"column\": \"Pregnancies\",\n      \"properties\": {\n        \"dtype\": \"number\",\n        \"std\": 269.85223453356366,\n        \"min\": 0.0,\n        \"max\": 768.0,\n        \"num_unique_values\": 8,\n        \"samples\": [\n          3.8450520833333335,\n          3.0,\n          768.0\n        ],\n        \"semantic_type\": \"\",\n        \"description\": \"\"\n      }\n    },\n    {\n      \"column\": \"Glucose\",\n      \"properties\": {\n        \"dtype\": \"number\",\n        \"std\": 243.73802348295857,\n        \"min\": 0.0,\n        \"max\": 768.0,\n        \"num_unique_values\": 8,\n        \"samples\": [\n          120.89453125,\n          117.0,\n          768.0\n        ],\n        \"semantic_type\": \"\",\n        \"description\": \"\"\n      }\n    },\n    {\n      \"column\": \"BloodPressure\",\n      \"properties\": {\n        \"dtype\": \"number\",\n        \"std\": 252.8525053581062,\n        \"min\": 0.0,\n        \"max\": 768.0,\n        \"num_unique_values\": 8,\n        \"samples\": [\n          69.10546875,\n          72.0,\n          768.0\n        ],\n        \"semantic_type\": \"\",\n        \"description\": \"\"\n      }\n    },\n    {\n      \"column\": \"SkinThickness\",\n      \"properties\": {\n        \"dtype\": \"number\",\n        \"std\": 263.7684730531098,\n        \"min\": 0.0,\n        \"max\": 768.0,\n        \"num_unique_values\": 7,\n        \"samples\": [\n          768.0,\n          20.536458333333332,\n          32.0\n        ],\n        \"semantic_type\": \"\",\n        \"description\": \"\"\n      }\n    },\n    {\n      \"column\": \"Insulin\",\n      \"properties\": {\n        \"dtype\": \"number\",\n        \"std\": 350.26059167945886,\n        \"min\": 0.0,\n        \"max\": 846.0,\n        \"num_unique_values\": 7,\n        \"samples\": [\n          768.0,\n          79.79947916666667,\n          127.25\n        ],\n        \"semantic_type\": \"\",\n        \"description\": \"\"\n      }\n    },\n    {\n      \"column\": \"BMI\",\n      \"properties\": {\n        \"dtype\": \"number\",\n        \"std\": 262.05117817552093,\n        \"min\": 0.0,\n        \"max\": 768.0,\n        \"num_unique_values\": 8,\n        \"samples\": [\n          31.992578124999998,\n          32.0,\n          768.0\n        ],\n        \"semantic_type\": \"\",\n        \"description\": \"\"\n      }\n    },\n    {\n      \"column\": \"DiabetesPedigreeFunction\",\n      \"properties\": {\n        \"dtype\": \"number\",\n        \"std\": 271.3005221658502,\n        \"min\": 0.078,\n        \"max\": 768.0,\n        \"num_unique_values\": 8,\n        \"samples\": [\n          0.47187630208333325,\n          0.3725,\n          768.0\n        ],\n        \"semantic_type\": \"\",\n        \"description\": \"\"\n      }\n    },\n    {\n      \"column\": \"Age\",\n      \"properties\": {\n        \"dtype\": \"number\",\n        \"std\": 260.1941178528413,\n        \"min\": 11.760231540678685,\n        \"max\": 768.0,\n        \"num_unique_values\": 8,\n        \"samples\": [\n          33.240885416666664,\n          29.0,\n          768.0\n        ],\n        \"semantic_type\": \"\",\n        \"description\": \"\"\n      }\n    },\n    {\n      \"column\": \"Outcome\",\n      \"properties\": {\n        \"dtype\": \"number\",\n        \"std\": 271.3865920388932,\n        \"min\": 0.0,\n        \"max\": 768.0,\n        \"num_unique_values\": 5,\n        \"samples\": [\n          0.3489583333333333,\n          1.0,\n          0.47695137724279896\n        ],\n        \"semantic_type\": \"\",\n        \"description\": \"\"\n      }\n    }\n  ]\n}"
            }
          },
          "metadata": {},
          "execution_count": 78
        }
      ]
    },
    {
      "cell_type": "code",
      "source": [
        "plt.hist(diabetes_data['Glucose'], bins=100)\n",
        "plt.show()"
      ],
      "metadata": {
        "colab": {
          "base_uri": "https://localhost:8080/",
          "height": 430
        },
        "id": "Mk2UzmID_h-u",
        "outputId": "0cf8c203-ae6e-426e-ce07-9b0557303582"
      },
      "execution_count": 81,
      "outputs": [
        {
          "output_type": "display_data",
          "data": {
            "text/plain": [
              "<Figure size 640x480 with 1 Axes>"
            ],
            "image/png": "[encoded data removed]"
          },
          "metadata": {}
        }
      ]
    },
    {
      "cell_type": "code",
      "source": [
        "# 0값을 검사할 피처명 리스트\n",
        "zero_features = ['Glucose', 'BloodPressure', 'SkinThickness', 'Insulin', 'BMI']\n",
        "\n",
        "# 전체 데이터 건수\n",
        "total_count = diabetes_data['Glucose'].count()\n",
        "\n",
        "# 피처별로 반복하면서 데이터 값이 0인 데이터 건수를 추출하고, 퍼센트 계산\n",
        "for feature in zero_features:\n",
        "  zero_count = diabetes_data[diabetes_data[feature] == 0][feature].count()\n",
        "  print('{0} 0 건수는 {1}, 퍼센트는 {2:.2f} %'.format(feature, zero_count, 100*zero_count/total_count))"
      ],
      "metadata": {
        "colab": {
          "base_uri": "https://localhost:8080/"
        },
        "id": "nuCuEBkD_pbL",
        "outputId": "be369600-ab13-4b88-b115-321ba4292584"
      },
      "execution_count": 84,
      "outputs": [
        {
          "output_type": "stream",
          "name": "stdout",
          "text": [
            "Glucose 0 건수는 5, 퍼센트는 0.65 %\n",
            "BloodPressure 0 건수는 35, 퍼센트는 4.56 %\n",
            "SkinThickness 0 건수는 227, 퍼센트는 29.56 %\n",
            "Insulin 0 건수는 374, 퍼센트는 48.70 %\n",
            "BMI 0 건수는 11, 퍼센트는 1.43 %\n"
          ]
        }
      ]
    },
    {
      "cell_type": "code",
      "source": [
        "# zero_features 리스트 내부에 저장된 개별 피처들에 대해서 0값을 평균 값으로 대체\n",
        "mean_zero_features = diabetes_data[zero_features].mean()\n",
        "diabetes_data[zero_features]=diabetes_data[zero_features].replace(0, mean_zero_features)"
      ],
      "metadata": {
        "id": "kak-bgjL_4fr"
      },
      "execution_count": 86,
      "outputs": []
    },
    {
      "cell_type": "code",
      "source": [
        "X = diabetes_data.iloc[:, :-1 ]\n",
        "y = diabetes_data.iloc[:, -1 ]\n",
        "\n",
        "# StandardScaler 클래스를 이용해 피처 데이터 세트에 일괄적으로 스케일링 적용\n",
        "scaler = StandardScaler( )\n",
        "X_scaled = scaler.fit_transform(X)\n",
        "X_train, X_test, y_train, y_test = train_test_split(X_scaled, y, test_size = 0.2,random_state = 156, stratify=y)\n",
        "\n",
        "# 로지스틱 회귀로 학습, 예측 및 평가 수행.\n",
        "lr_clf = LogisticRegression()\n",
        "lr_clf.fit(X_train, y_train)\n",
        "pred = lr_clf.predict(X_test)\n",
        "pred_proba = lr_clf.predict_proba(X_test)[:, 1 ]\n",
        "\n",
        "get_clf_eval(y_test, pred, pred_proba)"
      ],
      "metadata": {
        "colab": {
          "base_uri": "https://localhost:8080/"
        },
        "id": "xyFsH35nAIC1",
        "outputId": "78208e5f-0906-4e5d-c68d-4f855ffa2abe"
      },
      "execution_count": 87,
      "outputs": [
        {
          "output_type": "stream",
          "name": "stdout",
          "text": [
            "오차 행렬\n",
            "[[90 10]\n",
            " [21 33]]\n",
            "정확도: 0.7987, 정밀도: 0.7674, 재현율: 0.6111,     F1: 0.6804, AUC:0.8433\n"
          ]
        }
      ]
    },
    {
      "cell_type": "code",
      "source": [
        "# thresholds = [0.3, 0.33, 0.36, 0.39, 0.42, 0.45, 0.48, 0.50]\n",
        "# pred_proba = lr_clf.predict_proba(X_test)\n",
        "# get_eval_by_threshold(y_test, pred_proba[:, 1].reshape(-1, 1), thresholds)"
      ],
      "metadata": {
        "colab": {
          "base_uri": "https://localhost:8080/",
          "height": 353
        },
        "id": "l5BnaHWdAQrI",
        "outputId": "0b97beae-4246-4bd5-e323-2b07d20f2001"
      },
      "execution_count": 92,
      "outputs": [
        {
          "output_type": "stream",
          "name": "stdout",
          "text": [
            "임곗값: 0.3\n"
          ]
        },
        {
          "output_type": "error",
          "ename": "InvalidParameterError",
          "evalue": "The 'y_score' parameter of roc_auc_score must be an array-like. Got None instead.",
          "traceback": [
            "\u001b[0;31m---------------------------------------------------------------------------\u001b[0m",
            "\u001b[0;31mInvalidParameterError\u001b[0m                     Traceback (most recent call last)",
            "\u001b[0;32m<ipython-input-92-ba762111e687>\u001b[0m in \u001b[0;36m<cell line: 3>\u001b[0;34m()\u001b[0m\n\u001b[1;32m      1\u001b[0m \u001b[0mthresholds\u001b[0m \u001b[0;34m=\u001b[0m \u001b[0;34m[\u001b[0m\u001b[0;36m0.3\u001b[0m\u001b[0;34m,\u001b[0m \u001b[0;36m0.33\u001b[0m\u001b[0;34m,\u001b[0m \u001b[0;36m0.36\u001b[0m\u001b[0;34m,\u001b[0m \u001b[0;36m0.39\u001b[0m\u001b[0;34m,\u001b[0m \u001b[0;36m0.42\u001b[0m\u001b[0;34m,\u001b[0m \u001b[0;36m0.45\u001b[0m\u001b[0;34m,\u001b[0m \u001b[0;36m0.48\u001b[0m\u001b[0;34m,\u001b[0m \u001b[0;36m0.50\u001b[0m\u001b[0;34m]\u001b[0m\u001b[0;34m\u001b[0m\u001b[0;34m\u001b[0m\u001b[0m\n\u001b[1;32m      2\u001b[0m \u001b[0mpred_proba\u001b[0m \u001b[0;34m=\u001b[0m \u001b[0mlr_clf\u001b[0m\u001b[0;34m.\u001b[0m\u001b[0mpredict_proba\u001b[0m\u001b[0;34m(\u001b[0m\u001b[0mX_test\u001b[0m\u001b[0;34m)\u001b[0m\u001b[0;34m\u001b[0m\u001b[0;34m\u001b[0m\u001b[0m\n\u001b[0;32m----> 3\u001b[0;31m \u001b[0mget_eval_by_threshold\u001b[0m\u001b[0;34m(\u001b[0m\u001b[0my_test\u001b[0m\u001b[0;34m,\u001b[0m \u001b[0mpred_proba\u001b[0m\u001b[0;34m[\u001b[0m\u001b[0;34m:\u001b[0m\u001b[0;34m,\u001b[0m \u001b[0;36m1\u001b[0m\u001b[0;34m]\u001b[0m\u001b[0;34m.\u001b[0m\u001b[0mreshape\u001b[0m\u001b[0;34m(\u001b[0m\u001b[0;34m-\u001b[0m\u001b[0;36m1\u001b[0m\u001b[0;34m,\u001b[0m \u001b[0;36m1\u001b[0m\u001b[0;34m)\u001b[0m\u001b[0;34m,\u001b[0m \u001b[0mthresholds\u001b[0m\u001b[0;34m)\u001b[0m\u001b[0;34m\u001b[0m\u001b[0;34m\u001b[0m\u001b[0m\n\u001b[0m",
            "\u001b[0;32m<ipython-input-34-55d972fbb5ea>\u001b[0m in \u001b[0;36mget_eval_by_threshold\u001b[0;34m(y_test, pred_proba_c1, thresholds)\u001b[0m\n\u001b[1;32m      7\u001b[0m     \u001b[0mcustom_predict\u001b[0m \u001b[0;34m=\u001b[0m \u001b[0mbinarizer\u001b[0m\u001b[0;34m.\u001b[0m\u001b[0mtransform\u001b[0m\u001b[0;34m(\u001b[0m\u001b[0mpred_proba_c1\u001b[0m\u001b[0;34m)\u001b[0m\u001b[0;34m\u001b[0m\u001b[0;34m\u001b[0m\u001b[0m\n\u001b[1;32m      8\u001b[0m     \u001b[0mprint\u001b[0m\u001b[0;34m(\u001b[0m\u001b[0;34m'임곗값:'\u001b[0m\u001b[0;34m,\u001b[0m \u001b[0mcustom_threshold\u001b[0m\u001b[0;34m)\u001b[0m\u001b[0;34m\u001b[0m\u001b[0;34m\u001b[0m\u001b[0m\n\u001b[0;32m----> 9\u001b[0;31m     \u001b[0mget_clf_eval\u001b[0m\u001b[0;34m(\u001b[0m\u001b[0my_test\u001b[0m\u001b[0;34m,\u001b[0m \u001b[0mcustom_predict\u001b[0m\u001b[0;34m)\u001b[0m\u001b[0;34m\u001b[0m\u001b[0;34m\u001b[0m\u001b[0m\n\u001b[0m\u001b[1;32m     10\u001b[0m \u001b[0;34m\u001b[0m\u001b[0m\n\u001b[1;32m     11\u001b[0m \u001b[0mget_eval_by_threshold\u001b[0m\u001b[0;34m(\u001b[0m\u001b[0my_test\u001b[0m\u001b[0;34m,\u001b[0m \u001b[0mpred_proba\u001b[0m\u001b[0;34m[\u001b[0m\u001b[0;34m:\u001b[0m\u001b[0;34m,\u001b[0m \u001b[0;36m1\u001b[0m \u001b[0;34m]\u001b[0m\u001b[0;34m.\u001b[0m\u001b[0mreshape\u001b[0m\u001b[0;34m(\u001b[0m\u001b[0;34m-\u001b[0m\u001b[0;36m1\u001b[0m\u001b[0;34m,\u001b[0m \u001b[0;36m1\u001b[0m\u001b[0;34m)\u001b[0m\u001b[0;34m,\u001b[0m \u001b[0mthresholds\u001b[0m \u001b[0;34m)\u001b[0m\u001b[0;34m\u001b[0m\u001b[0;34m\u001b[0m\u001b[0m\n",
            "\u001b[0;32m<ipython-input-73-709a04a7ab5d>\u001b[0m in \u001b[0;36mget_clf_eval\u001b[0;34m(y_test, pred, pred_proba)\u001b[0m\n\u001b[1;32m      6\u001b[0m   \u001b[0mf1\u001b[0m \u001b[0;34m=\u001b[0m \u001b[0mf1_score\u001b[0m\u001b[0;34m(\u001b[0m\u001b[0my_test\u001b[0m\u001b[0;34m,\u001b[0m\u001b[0mpred\u001b[0m\u001b[0;34m)\u001b[0m\u001b[0;34m\u001b[0m\u001b[0;34m\u001b[0m\u001b[0m\n\u001b[1;32m      7\u001b[0m   \u001b[0;31m# ROC-AUC 추가\u001b[0m\u001b[0;34m\u001b[0m\u001b[0;34m\u001b[0m\u001b[0m\n\u001b[0;32m----> 8\u001b[0;31m   \u001b[0mroc_auc\u001b[0m \u001b[0;34m=\u001b[0m \u001b[0mroc_auc_score\u001b[0m\u001b[0;34m(\u001b[0m\u001b[0my_test\u001b[0m\u001b[0;34m,\u001b[0m \u001b[0mpred_proba\u001b[0m\u001b[0;34m)\u001b[0m\u001b[0;34m\u001b[0m\u001b[0;34m\u001b[0m\u001b[0m\n\u001b[0m\u001b[1;32m      9\u001b[0m   \u001b[0mprint\u001b[0m\u001b[0;34m(\u001b[0m\u001b[0;34m'오차 행렬'\u001b[0m\u001b[0;34m)\u001b[0m\u001b[0;34m\u001b[0m\u001b[0;34m\u001b[0m\u001b[0m\n\u001b[1;32m     10\u001b[0m   \u001b[0mprint\u001b[0m\u001b[0;34m(\u001b[0m\u001b[0mconfusion\u001b[0m\u001b[0;34m)\u001b[0m\u001b[0;34m\u001b[0m\u001b[0;34m\u001b[0m\u001b[0m\n",
            "\u001b[0;32m/usr/local/lib/python3.10/dist-packages/sklearn/utils/_param_validation.py\u001b[0m in \u001b[0;36mwrapper\u001b[0;34m(*args, **kwargs)\u001b[0m\n\u001b[1;32m    201\u001b[0m             \u001b[0mparams\u001b[0m \u001b[0;34m=\u001b[0m \u001b[0;34m{\u001b[0m\u001b[0mk\u001b[0m\u001b[0;34m:\u001b[0m \u001b[0mv\u001b[0m \u001b[0;32mfor\u001b[0m \u001b[0mk\u001b[0m\u001b[0;34m,\u001b[0m \u001b[0mv\u001b[0m \u001b[0;32min\u001b[0m \u001b[0mparams\u001b[0m\u001b[0;34m.\u001b[0m\u001b[0marguments\u001b[0m\u001b[0;34m.\u001b[0m\u001b[0mitems\u001b[0m\u001b[0;34m(\u001b[0m\u001b[0;34m)\u001b[0m \u001b[0;32mif\u001b[0m \u001b[0mk\u001b[0m \u001b[0;32mnot\u001b[0m \u001b[0;32min\u001b[0m \u001b[0mto_ignore\u001b[0m\u001b[0;34m}\u001b[0m\u001b[0;34m\u001b[0m\u001b[0;34m\u001b[0m\u001b[0m\n\u001b[1;32m    202\u001b[0m \u001b[0;34m\u001b[0m\u001b[0m\n\u001b[0;32m--> 203\u001b[0;31m             validate_parameter_constraints(\n\u001b[0m\u001b[1;32m    204\u001b[0m                 \u001b[0mparameter_constraints\u001b[0m\u001b[0;34m,\u001b[0m \u001b[0mparams\u001b[0m\u001b[0;34m,\u001b[0m \u001b[0mcaller_name\u001b[0m\u001b[0;34m=\u001b[0m\u001b[0mfunc\u001b[0m\u001b[0;34m.\u001b[0m\u001b[0m__qualname__\u001b[0m\u001b[0;34m\u001b[0m\u001b[0;34m\u001b[0m\u001b[0m\n\u001b[1;32m    205\u001b[0m             )\n",
            "\u001b[0;32m/usr/local/lib/python3.10/dist-packages/sklearn/utils/_param_validation.py\u001b[0m in \u001b[0;36mvalidate_parameter_constraints\u001b[0;34m(parameter_constraints, params, caller_name)\u001b[0m\n\u001b[1;32m     93\u001b[0m                 )\n\u001b[1;32m     94\u001b[0m \u001b[0;34m\u001b[0m\u001b[0m\n\u001b[0;32m---> 95\u001b[0;31m             raise InvalidParameterError(\n\u001b[0m\u001b[1;32m     96\u001b[0m                 \u001b[0;34mf\"The {param_name!r} parameter of {caller_name} must be\"\u001b[0m\u001b[0;34m\u001b[0m\u001b[0;34m\u001b[0m\u001b[0m\n\u001b[1;32m     97\u001b[0m                 \u001b[0;34mf\" {constraints_str}. Got {param_val!r} instead.\"\u001b[0m\u001b[0;34m\u001b[0m\u001b[0;34m\u001b[0m\u001b[0m\n",
            "\u001b[0;31mInvalidParameterError\u001b[0m: The 'y_score' parameter of roc_auc_score must be an array-like. Got None instead."
          ]
        }
      ]
    },
    {
      "cell_type": "code",
      "source": [
        "# # 임곗값을 0.48로 설정한 Binarizer 생성\n",
        "# binarizer = Binarizer(threshold=0.48)\n",
        "\n",
        "# # 위에서 구한 lr_clf의 predict_proba() 예측 확률 array에서 1에 해당하는 칼럼값을 Binarizer 변환.\n",
        "# pred_th_048 = binarizer.fit_transform(pred_proba[:, 1].reshape(-1, 1))\n",
        "\n",
        "# get_clf_eval(y_test, pred_th_048, pred_proba[:, 1])"
      ],
      "metadata": {
        "colab": {
          "base_uri": "https://localhost:8080/",
          "height": 201
        },
        "id": "XYTkhDmqAS_-",
        "outputId": "74563ac1-ef29-4e15-f962-cb8d05daaeaa"
      },
      "execution_count": 89,
      "outputs": [
        {
          "output_type": "error",
          "ename": "IndexError",
          "evalue": "too many indices for array: array is 1-dimensional, but 2 were indexed",
          "traceback": [
            "\u001b[0;31m---------------------------------------------------------------------------\u001b[0m",
            "\u001b[0;31mIndexError\u001b[0m                                Traceback (most recent call last)",
            "\u001b[0;32m<ipython-input-89-b399a9744250>\u001b[0m in \u001b[0;36m<cell line: 5>\u001b[0;34m()\u001b[0m\n\u001b[1;32m      3\u001b[0m \u001b[0;34m\u001b[0m\u001b[0m\n\u001b[1;32m      4\u001b[0m \u001b[0;31m# 위에서 구한 lr_clf의 predict_proba() 예측 확률 array에서 1에 해당하는 칼럼값을 Binarizer 변환.\u001b[0m\u001b[0;34m\u001b[0m\u001b[0;34m\u001b[0m\u001b[0m\n\u001b[0;32m----> 5\u001b[0;31m \u001b[0mpred_th_048\u001b[0m \u001b[0;34m=\u001b[0m \u001b[0mbinarizer\u001b[0m\u001b[0;34m.\u001b[0m\u001b[0mfit_transform\u001b[0m\u001b[0;34m(\u001b[0m\u001b[0mpred_proba\u001b[0m\u001b[0;34m[\u001b[0m\u001b[0;34m:\u001b[0m\u001b[0;34m,\u001b[0m \u001b[0;36m1\u001b[0m\u001b[0;34m]\u001b[0m\u001b[0;34m.\u001b[0m\u001b[0mreshape\u001b[0m\u001b[0;34m(\u001b[0m\u001b[0;34m-\u001b[0m\u001b[0;36m1\u001b[0m\u001b[0;34m,\u001b[0m \u001b[0;36m1\u001b[0m\u001b[0;34m)\u001b[0m\u001b[0;34m)\u001b[0m\u001b[0;34m\u001b[0m\u001b[0;34m\u001b[0m\u001b[0m\n\u001b[0m\u001b[1;32m      6\u001b[0m \u001b[0mget_clf_eval\u001b[0m\u001b[0;34m(\u001b[0m\u001b[0my_test\u001b[0m\u001b[0;34m,\u001b[0m \u001b[0mpred_th_048\u001b[0m\u001b[0;34m,\u001b[0m \u001b[0mpred_proba\u001b[0m\u001b[0;34m[\u001b[0m\u001b[0;34m:\u001b[0m\u001b[0;34m,\u001b[0m \u001b[0;36m1\u001b[0m\u001b[0;34m]\u001b[0m\u001b[0;34m)\u001b[0m\u001b[0;34m\u001b[0m\u001b[0;34m\u001b[0m\u001b[0m\n",
            "\u001b[0;31mIndexError\u001b[0m: too many indices for array: array is 1-dimensional, but 2 were indexed"
          ]
        }
      ]
    }
  ]
}