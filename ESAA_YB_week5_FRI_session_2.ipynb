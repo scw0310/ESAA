{
  "nbformat": 4,
  "nbformat_minor": 0,
  "metadata": {
    "colab": {
      "provenance": []
    },
    "kernelspec": {
      "name": "python3",
      "display_name": "Python 3"
    },
    "language_info": {
      "name": "python"
    }
  },
  "cells": [
    {
      "cell_type": "code",
      "metadata": {
        "id": "4Zqc4O_BfWqZ",
        "colab": {
          "base_uri": "https://localhost:8080/"
        },
        "outputId": "928c37b6-d6b3-4f8b-dd17-e53392210070"
      },
      "source": [
        "# 모듈 및 데이터 로드\n",
        "from sklearn.datasets import load_breast_cancer\n",
        "from sklearn.linear_model import LogisticRegression\n",
        "\n",
        "data = load_breast_cancer()\n",
        "\n",
        "# x, y 데이터 생성\n",
        "X = data.data\n",
        "\n",
        "# 악성을 1, 양성을 0으로\n",
        "y = 1 - data.target\n",
        "\n",
        "# 특징으로 사용할 데이터를 평균으로 구분하는 10개 열로 축소\n",
        "X = X[:, :10]\n",
        "\n",
        "# 로지스틱 회귀 모델 생성\n",
        "model_lor = LogisticRegression(solver = 'lbfgs')\n",
        "model_lor.fit(X,y)\n",
        "y_pred = model_lor.predict(X)"
      ],
      "execution_count": null,
      "outputs": [
        {
          "output_type": "stream",
          "name": "stderr",
          "text": [
            "/usr/local/lib/python3.10/dist-packages/sklearn/linear_model/_logistic.py:469: ConvergenceWarning: lbfgs failed to converge (status=1):\n",
            "STOP: TOTAL NO. of ITERATIONS REACHED LIMIT.\n",
            "\n",
            "Increase the number of iterations (max_iter) or scale the data as shown in:\n",
            "    https://scikit-learn.org/stable/modules/preprocessing.html\n",
            "Please also refer to the documentation for alternative solver options:\n",
            "    https://scikit-learn.org/stable/modules/linear_model.html#logistic-regression\n",
            "  n_iter_i = _check_optimize_result(\n"
          ]
        }
      ]
    },
    {
      "cell_type": "markdown",
      "metadata": {
        "id": "faoAfc1ZgAcq"
      },
      "source": [
        "* 오차 행렬(혼동 행렬) 생성"
      ]
    },
    {
      "cell_type": "code",
      "metadata": {
        "id": "JdML8YM0gBtu",
        "colab": {
          "base_uri": "https://localhost:8080/"
        },
        "outputId": "12e6d4b8-3e66-45ce-c045-feb5ed0e3f26"
      },
      "source": [
        "# 종속 변수와 예측 결과로 혼동 행렬 생성\n",
        "\n",
        "from sklearn.metrics import confusion_matrix\n",
        "conf_matrix = confusion_matrix(y, y_pred)\n",
        "print(conf_matrix)"
      ],
      "execution_count": null,
      "outputs": [
        {
          "output_type": "stream",
          "name": "stdout",
          "text": [
            "[[337  20]\n",
            " [ 30 182]]\n"
          ]
        }
      ]
    },
    {
      "cell_type": "markdown",
      "metadata": {
        "id": "xbcK3rT-gFRk"
      },
      "source": [
        "* 정확도"
      ]
    },
    {
      "cell_type": "code",
      "metadata": {
        "id": "NLiXFuYvgI1e",
        "colab": {
          "base_uri": "https://localhost:8080/"
        },
        "outputId": "5f368550-1ce3-4124-a0d5-841844e5b4a5"
      },
      "source": [
        "from sklearn.metrics import accuracy_score\n",
        "accuracy = accuracy_score(y, y_pred)\n",
        "\n",
        "#소수점 네번째 자리까지\n",
        "print(f'정확도: {accuracy:.4f}')"
      ],
      "execution_count": null,
      "outputs": [
        {
          "output_type": "stream",
          "name": "stdout",
          "text": [
            "정확도: 0.9121\n"
          ]
        }
      ]
    },
    {
      "cell_type": "markdown",
      "metadata": {
        "id": "UYnVZS9igNNf"
      },
      "source": [
        "* 정밀도"
      ]
    },
    {
      "cell_type": "code",
      "metadata": {
        "id": "j108NueLgMKF",
        "colab": {
          "base_uri": "https://localhost:8080/"
        },
        "outputId": "7d3759e1-db58-4931-d013-edefd6208905"
      },
      "source": [
        "from sklearn.metrics import precision_score\n",
        "\n",
        "precision = precision_score(y, y_pred)\n",
        "print(f'정밀도: {precision:.4f}')"
      ],
      "execution_count": null,
      "outputs": [
        {
          "output_type": "stream",
          "name": "stdout",
          "text": [
            "정밀도: 0.9010\n"
          ]
        }
      ]
    },
    {
      "cell_type": "markdown",
      "metadata": {
        "id": "2-MBquNJZOM4"
      },
      "source": [
        "* 재현율"
      ]
    },
    {
      "cell_type": "code",
      "metadata": {
        "id": "uje4ivPvZPwv",
        "colab": {
          "base_uri": "https://localhost:8080/"
        },
        "outputId": "0d873c6a-b250-4d9d-addb-306a5730b134"
      },
      "source": [
        "from sklearn.metrics import recall_score\n",
        "\n",
        "recall = recall_score(y, y_pred)\n",
        "print(f'재현율: {recall:.4f}')"
      ],
      "execution_count": null,
      "outputs": [
        {
          "output_type": "stream",
          "name": "stdout",
          "text": [
            "재현율: 0.8585\n"
          ]
        }
      ]
    },
    {
      "cell_type": "markdown",
      "metadata": {
        "id": "Cw1p3yjagUCH"
      },
      "source": [
        "* F1 score"
      ]
    },
    {
      "cell_type": "code",
      "metadata": {
        "id": "hPdtYdoDgYgV",
        "colab": {
          "base_uri": "https://localhost:8080/"
        },
        "outputId": "d0afe9ba-423e-450f-a202-7d7c25caaf7b"
      },
      "source": [
        "from sklearn.metrics import f1_score\n",
        "\n",
        "f1 = f1_score(y, y_pred)\n",
        "print(f'F1 score: {f1:.4f}')"
      ],
      "execution_count": null,
      "outputs": [
        {
          "output_type": "stream",
          "name": "stdout",
          "text": [
            "F1 score: 0.8792\n"
          ]
        }
      ]
    },
    {
      "cell_type": "markdown",
      "metadata": {
        "id": "fzwIFsKOW5a1"
      },
      "source": [
        "* 예측 확률(pred_proba) : 0으로 예측할 확률이 0.1보다 크면 y_pred2 에 넣는다 가정."
      ]
    },
    {
      "cell_type": "code",
      "metadata": {
        "id": "nw9dxOiPW40l"
      },
      "source": [
        "from sklearn.preprocessing import Binarizer"
      ],
      "execution_count": null,
      "outputs": []
    },
    {
      "cell_type": "code",
      "metadata": {
        "id": "Y-WrHrICYFB1",
        "colab": {
          "base_uri": "https://localhost:8080/"
        },
        "outputId": "ef72f499-bbfa-47d0-b056-5b0fb32f50f6"
      },
      "source": [
        "# y과 y_pred2의 혼동행렬, 정확도, 정밀도, 재현율, f1 score 구하기\n",
        "\n",
        "\n",
        "#예측 확률\n",
        "y_pred_proba = model_lor.predict_proba(X)\n",
        "\n",
        "#y_pred 정의\n",
        "binarizer = Binarizer(threshold=0.1)\n",
        "y_pred2 = binarizer.fit_transform(y_pred_proba[:, [0]])\n",
        "\n",
        "#혼동 행렬\n",
        "conf_matrix2 = confusion_matrix(y, y_pred2)\n",
        "print(f'혼동 행렬:\\n{conf_matrix2}')\n",
        "\n",
        "#정확도\n",
        "accuracy2 = accuracy_score(y, y_pred2)\n",
        "print(f'정확도: {accuracy2:.4f}')\n",
        "\n",
        "# 정밀도\n",
        "precision2 = precision_score(y, y_pred2)\n",
        "print(f'정밀도: {precision2:.4f}')\n",
        "\n",
        "# 재현율\n",
        "recall2 = recall_score(y, y_pred2)\n",
        "print(f'재현율: {recall2:.4f}')\n",
        "\n",
        "# F1 score\n",
        "f1_2 = f1_score(y, y_pred2)\n",
        "print(f'F1 score: {f1_2:.4f}')"
      ],
      "execution_count": null,
      "outputs": [
        {
          "output_type": "stream",
          "name": "stdout",
          "text": [
            "혼동 행렬:\n",
            "[[  1 356]\n",
            " [139  73]]\n",
            "정확도: 0.1301\n",
            "정밀도: 0.1702\n",
            "재현율: 0.3443\n",
            "F1 score: 0.2278\n"
          ]
        }
      ]
    },
    {
      "cell_type": "markdown",
      "metadata": {
        "id": "itgf_OjsjU-R"
      },
      "source": [
        "* ROC 곡선 시각화"
      ]
    },
    {
      "cell_type": "code",
      "metadata": {
        "id": "DW75xBokjXKy"
      },
      "source": [
        "from sklearn.metrics import roc_curve\n",
        "\n",
        "y_pred_proba_positive = model_lor.predict_proba(X)[:, 1]\n",
        "fpr, tpr, thresholds = roc_curve(y, y_pred_proba_positive)"
      ],
      "execution_count": null,
      "outputs": []
    },
    {
      "cell_type": "code",
      "metadata": {
        "id": "CSJ69SGJVh7m",
        "colab": {
          "base_uri": "https://localhost:8080/",
          "height": 467
        },
        "outputId": "5b9e3c18-769f-400e-f63e-fb06262a74f2"
      },
      "source": [
        "import matplotlib.pyplot as plt\n",
        "plt.plot(fpr, tpr)\n",
        "plt.xlabel('FPR')\n",
        "plt.ylabel('TPR')"
      ],
      "execution_count": null,
      "outputs": [
        {
          "output_type": "execute_result",
          "data": {
            "text/plain": [
              "Text(0, 0.5, 'TPR')"
            ]
          },
          "metadata": {},
          "execution_count": 14
        },
        {
          "output_type": "display_data",
          "data": {
            "text/plain": [
              "<Figure size 640x480 with 1 Axes>"
            ],
            "image/png": "[encoded data removed]"
          },
          "metadata": {}
        }
      ]
    },
    {
      "cell_type": "markdown",
      "metadata": {
        "id": "fL4as0YsWYD7"
      },
      "source": [
        "* ROC AUC 값"
      ]
    },
    {
      "cell_type": "code",
      "metadata": {
        "id": "-SEElVZTWaVp",
        "colab": {
          "base_uri": "https://localhost:8080/"
        },
        "outputId": "cd4b1f2b-4f80-4508-ffd7-9bd0b7e59283"
      },
      "source": [
        "from sklearn.metrics import roc_auc_score\n",
        "roc_auc = roc_auc_score(y, y_pred_proba_positive)\n",
        "print(f'ROC AUC: {roc_auc:.4f}')"
      ],
      "execution_count": null,
      "outputs": [
        {
          "output_type": "stream",
          "name": "stdout",
          "text": [
            "ROC AUC: 0.9741\n"
          ]
        }
      ]
    }
  ]
}