{
  "cells": [
    {
      "cell_type": "markdown",
      "source": [
        "# **HW7**\n",
        "\n",
        "2217014 통계학과 송채원\n",
        "\n",
        "https://youtu.be/bkZ1D9vlDVg"
      ],
      "metadata": {
        "id": "KLloIwzMwVlQ"
      },
      "id": "KLloIwzMwVlQ"
    },
    {
      "cell_type": "code",
      "source": [
        "import numpy as np\n",
        "import torch\n",
        "import matplotlib.pyplot as plt\n",
        "from torch.utils.data import Dataset, DataLoader, TensorDataset\n"
      ],
      "metadata": {
        "id": "s8Tfrhrby7Y2"
      },
      "id": "s8Tfrhrby7Y2",
      "execution_count": null,
      "outputs": []
    },
    {
      "cell_type": "markdown",
      "metadata": {
        "id": "GqyLj8otzbul"
      },
      "source": [
        "### 2.2 Load data"
      ],
      "id": "GqyLj8otzbul"
    },
    {
      "cell_type": "code",
      "execution_count": null,
      "metadata": {
        "id": "u0z0v8tJ1yE8"
      },
      "outputs": [],
      "source": [
        "import torch\n",
        "import torchvision\n",
        "import numpy as np\n",
        "import matplotlib.pyplot as plt\n",
        "import sklearn.datasets\n",
        "import torch.nn as nn\n",
        "from torch.utils.data import Dataset, DataLoader, TensorDataset\n",
        "import pandas as pd"
      ],
      "id": "u0z0v8tJ1yE8"
    },
    {
      "cell_type": "code",
      "execution_count": null,
      "metadata": {
        "id": "d64Qxcr_xT5I"
      },
      "outputs": [],
      "source": [
        "mnist = sklearn.datasets.fetch_openml('mnist_784', data_home=\"mnist_784\")"
      ],
      "id": "d64Qxcr_xT5I"
    },
    {
      "cell_type": "code",
      "execution_count": null,
      "metadata": {
        "colab": {
          "base_uri": "https://localhost:8080/"
        },
        "id": "NPIsYGX4LrE5",
        "outputId": "cd8dcfe3-d94e-4670-c846-736301077147"
      },
      "outputs": [
        {
          "output_type": "execute_result",
          "data": {
            "text/plain": [
              "dict_keys(['data', 'target', 'frame', 'categories', 'feature_names', 'target_names', 'DESCR', 'details', 'url'])"
            ]
          },
          "metadata": {},
          "execution_count": 16
        }
      ],
      "source": [
        "mnist.keys()"
      ],
      "id": "NPIsYGX4LrE5"
    },
    {
      "cell_type": "code",
      "execution_count": null,
      "metadata": {
        "colab": {
          "base_uri": "https://localhost:8080/"
        },
        "id": "hDC0EhYpqUq2",
        "outputId": "26555032-5923-456e-c247-81dc21ab5742"
      },
      "outputs": [
        {
          "output_type": "execute_result",
          "data": {
            "text/plain": [
              "array([5., 0., 4., ..., 4., 5., 6.])"
            ]
          },
          "metadata": {},
          "execution_count": 18
        }
      ],
      "source": [
        "np.array(mnist[\"target\"].values).astype(float)"
      ],
      "id": "hDC0EhYpqUq2"
    },
    {
      "cell_type": "code",
      "execution_count": null,
      "metadata": {
        "colab": {
          "base_uri": "https://localhost:8080/"
        },
        "id": "0Fbykd0MLZQr",
        "outputId": "d68c0a0a-2121-4ac8-f592-5f5ca28dc5ad"
      },
      "outputs": [
        {
          "output_type": "stream",
          "name": "stdout",
          "text": [
            "torch.Size([70000, 784]) torch.Size([70000])\n"
          ]
        },
        {
          "output_type": "stream",
          "name": "stderr",
          "text": [
            "<ipython-input-20-70aebe54c424>:5: UserWarning: To copy construct from a tensor, it is recommended to use sourceTensor.clone().detach() or sourceTensor.clone().detach().requires_grad_(True), rather than torch.tensor(sourceTensor).\n",
            "  T = torch.nn.functional.one_hot(torch.tensor(Y, dtype=torch.int64), num_classes=10)\n",
            "<ipython-input-20-70aebe54c424>:6: UserWarning: To copy construct from a tensor, it is recommended to use sourceTensor.clone().detach() or sourceTensor.clone().detach().requires_grad_(True), rather than torch.tensor(sourceTensor).\n",
            "  T = torch.tensor(T, dtype=torch.float32)\n"
          ]
        }
      ],
      "source": [
        "X = torch.tensor(mnist[\"data\"].values, dtype=torch.float32).reshape([-1, 28* 28])\n",
        "Y = torch.tensor(np.array(mnist[\"target\"].values).astype(float), dtype=torch.float32)\n",
        "print(X.shape, Y.shape)\n",
        "\n",
        "T = torch.nn.functional.one_hot(torch.tensor(Y, dtype=torch.int64), num_classes=10)\n",
        "T = torch.tensor(T, dtype=torch.float32)\n"
      ],
      "id": "0Fbykd0MLZQr"
    },
    {
      "cell_type": "code",
      "execution_count": null,
      "metadata": {
        "colab": {
          "base_uri": "https://localhost:8080/"
        },
        "id": "ixPz5OFrZmOE",
        "outputId": "ff8c3941-bfd6-44bc-b40a-f62a95db857c"
      },
      "outputs": [
        {
          "output_type": "execute_result",
          "data": {
            "text/plain": [
              "torch.Size([70000, 784])"
            ]
          },
          "metadata": {},
          "execution_count": 21
        }
      ],
      "source": [
        "X.shape"
      ],
      "id": "ixPz5OFrZmOE"
    },
    {
      "cell_type": "code",
      "execution_count": null,
      "metadata": {
        "colab": {
          "base_uri": "https://localhost:8080/"
        },
        "id": "i9HRZTjkaIM4",
        "outputId": "c5d9425c-7c06-449c-f7a5-7c8d25a3d9e3"
      },
      "outputs": [
        {
          "output_type": "execute_result",
          "data": {
            "text/plain": [
              "torch.Size([70000])"
            ]
          },
          "metadata": {},
          "execution_count": 22
        }
      ],
      "source": [
        "Y.shape"
      ],
      "id": "i9HRZTjkaIM4"
    },
    {
      "cell_type": "code",
      "execution_count": null,
      "metadata": {
        "colab": {
          "base_uri": "https://localhost:8080/"
        },
        "id": "8-4WzUX87_Z6",
        "outputId": "61fa1272-d89b-4352-a070-3c8f20abc3cd"
      },
      "outputs": [
        {
          "output_type": "execute_result",
          "data": {
            "text/plain": [
              "tensor([5., 0., 4., 1., 9., 2., 1., 3., 1., 4.])"
            ]
          },
          "metadata": {},
          "execution_count": 23
        }
      ],
      "source": [
        "Y[:10]"
      ],
      "id": "8-4WzUX87_Z6"
    },
    {
      "cell_type": "code",
      "execution_count": null,
      "metadata": {
        "colab": {
          "base_uri": "https://localhost:8080/"
        },
        "id": "YCFHm2WWEzjR",
        "outputId": "aa2bbb17-1f77-439e-9a14-ceff27b2b3f5"
      },
      "outputs": [
        {
          "output_type": "execute_result",
          "data": {
            "text/plain": [
              "tensor([[0., 0., 0., 0., 0., 1., 0., 0., 0., 0.],\n",
              "        [1., 0., 0., 0., 0., 0., 0., 0., 0., 0.],\n",
              "        [0., 0., 0., 0., 1., 0., 0., 0., 0., 0.],\n",
              "        [0., 1., 0., 0., 0., 0., 0., 0., 0., 0.],\n",
              "        [0., 0., 0., 0., 0., 0., 0., 0., 0., 1.],\n",
              "        [0., 0., 1., 0., 0., 0., 0., 0., 0., 0.],\n",
              "        [0., 1., 0., 0., 0., 0., 0., 0., 0., 0.],\n",
              "        [0., 0., 0., 1., 0., 0., 0., 0., 0., 0.],\n",
              "        [0., 1., 0., 0., 0., 0., 0., 0., 0., 0.],\n",
              "        [0., 0., 0., 0., 1., 0., 0., 0., 0., 0.]])"
            ]
          },
          "metadata": {},
          "execution_count": 24
        }
      ],
      "source": [
        "T[:10]"
      ],
      "id": "YCFHm2WWEzjR"
    },
    {
      "cell_type": "code",
      "execution_count": null,
      "metadata": {
        "colab": {
          "base_uri": "https://localhost:8080/",
          "height": 448
        },
        "id": "GiU4lmQDpndK",
        "outputId": "4b25ca9a-d59a-4ca2-cb6b-d9addf15b33a"
      },
      "outputs": [
        {
          "output_type": "stream",
          "name": "stdout",
          "text": [
            "tensor(5.)\n"
          ]
        },
        {
          "output_type": "display_data",
          "data": {
            "text/plain": [
              "<Figure size 640x480 with 1 Axes>"
            ],
            "image/png": "[encoded data removed]"
          },
          "metadata": {}
        }
      ],
      "source": [
        "plt.imshow(X[0].reshape(28,28))\n",
        "print(Y[0])"
      ],
      "id": "GiU4lmQDpndK"
    },
    {
      "cell_type": "markdown",
      "metadata": {
        "id": "gycDo-4IaVfW"
      },
      "source": [
        "\"그림: [28.28] matrix  =  길이가 [784]인 Vector =784개의 설명변수"
      ],
      "id": "gycDo-4IaVfW"
    },
    {
      "cell_type": "code",
      "execution_count": null,
      "metadata": {
        "colab": {
          "base_uri": "https://localhost:8080/"
        },
        "id": "sUHpawbnZ96H",
        "outputId": "ff60835f-a5e1-465d-eb02-3bb5f592b10a"
      },
      "outputs": [
        {
          "output_type": "execute_result",
          "data": {
            "text/plain": [
              "tensor([  0.,   0.,   0.,   0.,   0.,   0.,   0.,   0.,   0.,   0.,   0.,   0.,\n",
              "          0.,   0.,   0.,   0.,   0.,   0.,   0.,   0.,   0.,   0.,   0.,   0.,\n",
              "          0.,   0.,   0.,   0.,   0.,   0.,   0.,   0.,   0.,   0.,   0.,   0.,\n",
              "          0.,   0.,   0.,   0.,   0.,   0.,   0.,   0.,   0.,   0.,   0.,   0.,\n",
              "          0.,   0.,   0.,   0.,   0.,   0.,   0.,   0.,   0.,   0.,   0.,   0.,\n",
              "          0.,   0.,   0.,   0.,   0.,   0.,   0.,   0.,   0.,   0.,   0.,   0.,\n",
              "          0.,   0.,   0.,   0.,   0.,   0.,   0.,   0.,   0.,   0.,   0.,   0.,\n",
              "          0.,   0.,   0.,   0.,   0.,   0.,   0.,   0.,   0.,   0.,   0.,   0.,\n",
              "          0.,   0.,   0.,   0.,   0.,   0.,   0.,   0.,   0.,   0.,   0.,   0.,\n",
              "          0.,   0.,   0.,   0.,   0.,   0.,   0.,   0.,   0.,   0.,   0.,   0.,\n",
              "          0.,   0.,   0.,   0.,   0.,   0.,   0.,   0.,   0.,   0.,   0.,   0.,\n",
              "          0.,   0.,   0.,   0.,   0.,   0.,   0.,   0.,   0.,   0.,   0.,   0.,\n",
              "          0.,   0.,   0.,   0.,   0.,   0.,   0.,   0.,   3.,  18.,  18.,  18.,\n",
              "        126., 136., 175.,  26., 166., 255., 247., 127.,   0.,   0.,   0.,   0.,\n",
              "          0.,   0.,   0.,   0.,   0.,   0.,   0.,   0.,  30.,  36.,  94., 154.,\n",
              "        170., 253., 253., 253., 253., 253., 225., 172., 253., 242., 195.,  64.,\n",
              "          0.,   0.,   0.,   0.,   0.,   0.,   0.,   0.,   0.,   0.,   0.,  49.,\n",
              "        238., 253., 253., 253., 253., 253., 253., 253., 253., 251.,  93.,  82.,\n",
              "         82.,  56.,  39.,   0.,   0.,   0.,   0.,   0.,   0.,   0.,   0.,   0.,\n",
              "          0.,   0.,   0.,  18., 219., 253., 253., 253., 253., 253., 198., 182.,\n",
              "        247., 241.,   0.,   0.,   0.,   0.,   0.,   0.,   0.,   0.,   0.,   0.,\n",
              "          0.,   0.,   0.,   0.,   0.,   0.,   0.,   0.,  80., 156., 107., 253.,\n",
              "        253., 205.,  11.,   0.,  43., 154.,   0.,   0.,   0.,   0.,   0.,   0.,\n",
              "          0.,   0.,   0.,   0.,   0.,   0.,   0.,   0.,   0.,   0.,   0.,   0.,\n",
              "          0.,  14.,   1., 154., 253.,  90.,   0.,   0.,   0.,   0.,   0.,   0.,\n",
              "          0.,   0.,   0.,   0.,   0.,   0.,   0.,   0.,   0.,   0.,   0.,   0.,\n",
              "          0.,   0.,   0.,   0.,   0.,   0.,   0., 139., 253., 190.,   2.,   0.,\n",
              "          0.,   0.,   0.,   0.,   0.,   0.,   0.,   0.,   0.,   0.,   0.,   0.,\n",
              "          0.,   0.,   0.,   0.,   0.,   0.,   0.,   0.,   0.,   0.,   0.,  11.,\n",
              "        190., 253.,  70.,   0.,   0.,   0.,   0.,   0.,   0.,   0.,   0.,   0.,\n",
              "          0.,   0.,   0.,   0.,   0.,   0.,   0.,   0.,   0.,   0.,   0.,   0.,\n",
              "          0.,   0.,   0.,   0.,  35., 241., 225., 160., 108.,   1.,   0.,   0.,\n",
              "          0.,   0.,   0.,   0.,   0.,   0.,   0.,   0.,   0.,   0.,   0.,   0.,\n",
              "          0.,   0.,   0.,   0.,   0.,   0.,   0.,   0.,   0.,  81., 240., 253.,\n",
              "        253., 119.,  25.,   0.,   0.,   0.,   0.,   0.,   0.,   0.,   0.,   0.,\n",
              "          0.,   0.,   0.,   0.,   0.,   0.,   0.,   0.,   0.,   0.,   0.,   0.,\n",
              "          0.,   0.,  45., 186., 253., 253., 150.,  27.,   0.,   0.,   0.,   0.,\n",
              "          0.,   0.,   0.,   0.,   0.,   0.,   0.,   0.,   0.,   0.,   0.,   0.,\n",
              "          0.,   0.,   0.,   0.,   0.,   0.,   0.,  16.,  93., 252., 253., 187.,\n",
              "          0.,   0.,   0.,   0.,   0.,   0.,   0.,   0.,   0.,   0.,   0.,   0.,\n",
              "          0.,   0.,   0.,   0.,   0.,   0.,   0.,   0.,   0.,   0.,   0.,   0.,\n",
              "          0., 249., 253., 249.,  64.,   0.,   0.,   0.,   0.,   0.,   0.,   0.,\n",
              "          0.,   0.,   0.,   0.,   0.,   0.,   0.,   0.,   0.,   0.,   0.,   0.,\n",
              "          0.,   0.,  46., 130., 183., 253., 253., 207.,   2.,   0.,   0.,   0.,\n",
              "          0.,   0.,   0.,   0.,   0.,   0.,   0.,   0.,   0.,   0.,   0.,   0.,\n",
              "          0.,   0.,   0.,   0.,  39., 148., 229., 253., 253., 253., 250., 182.,\n",
              "          0.,   0.,   0.,   0.,   0.,   0.,   0.,   0.,   0.,   0.,   0.,   0.,\n",
              "          0.,   0.,   0.,   0.,   0.,   0.,  24., 114., 221., 253., 253., 253.,\n",
              "        253., 201.,  78.,   0.,   0.,   0.,   0.,   0.,   0.,   0.,   0.,   0.,\n",
              "          0.,   0.,   0.,   0.,   0.,   0.,   0.,   0.,  23.,  66., 213., 253.,\n",
              "        253., 253., 253., 198.,  81.,   2.,   0.,   0.,   0.,   0.,   0.,   0.,\n",
              "          0.,   0.,   0.,   0.,   0.,   0.,   0.,   0.,   0.,   0.,  18., 171.,\n",
              "        219., 253., 253., 253., 253., 195.,  80.,   9.,   0.,   0.,   0.,   0.,\n",
              "          0.,   0.,   0.,   0.,   0.,   0.,   0.,   0.,   0.,   0.,   0.,   0.,\n",
              "         55., 172., 226., 253., 253., 253., 253., 244., 133.,  11.,   0.,   0.,\n",
              "          0.,   0.,   0.,   0.,   0.,   0.,   0.,   0.,   0.,   0.,   0.,   0.,\n",
              "          0.,   0.,   0.,   0., 136., 253., 253., 253., 212., 135., 132.,  16.,\n",
              "          0.,   0.,   0.,   0.,   0.,   0.,   0.,   0.,   0.,   0.,   0.,   0.,\n",
              "          0.,   0.,   0.,   0.,   0.,   0.,   0.,   0.,   0.,   0.,   0.,   0.,\n",
              "          0.,   0.,   0.,   0.,   0.,   0.,   0.,   0.,   0.,   0.,   0.,   0.,\n",
              "          0.,   0.,   0.,   0.,   0.,   0.,   0.,   0.,   0.,   0.,   0.,   0.,\n",
              "          0.,   0.,   0.,   0.,   0.,   0.,   0.,   0.,   0.,   0.,   0.,   0.,\n",
              "          0.,   0.,   0.,   0.,   0.,   0.,   0.,   0.,   0.,   0.,   0.,   0.,\n",
              "          0.,   0.,   0.,   0.,   0.,   0.,   0.,   0.,   0.,   0.,   0.,   0.,\n",
              "          0.,   0.,   0.,   0.,   0.,   0.,   0.,   0.,   0.,   0.,   0.,   0.,\n",
              "          0.,   0.,   0.,   0.])"
            ]
          },
          "metadata": {},
          "execution_count": 26
        }
      ],
      "source": [
        "X[0]"
      ],
      "id": "sUHpawbnZ96H"
    },
    {
      "cell_type": "code",
      "execution_count": null,
      "metadata": {
        "colab": {
          "base_uri": "https://localhost:8080/"
        },
        "id": "KeAOZe16MTUG",
        "outputId": "bc8b654c-f9cc-4021-bc5c-bb41c6171742"
      },
      "outputs": [
        {
          "output_type": "stream",
          "name": "stderr",
          "text": [
            "<ipython-input-27-fd234ed319a3>:1: UserWarning: To copy construct from a tensor, it is recommended to use sourceTensor.clone().detach() or sourceTensor.clone().detach().requires_grad_(True), rather than torch.tensor(sourceTensor).\n",
            "  x_train = torch.tensor(X[:60000, :]/255, dtype = torch.float32)\n",
            "<ipython-input-27-fd234ed319a3>:2: UserWarning: To copy construct from a tensor, it is recommended to use sourceTensor.clone().detach() or sourceTensor.clone().detach().requires_grad_(True), rather than torch.tensor(sourceTensor).\n",
            "  y_train = torch.tensor(Y[:60000], dtype = torch.float32)\n",
            "<ipython-input-27-fd234ed319a3>:3: UserWarning: To copy construct from a tensor, it is recommended to use sourceTensor.clone().detach() or sourceTensor.clone().detach().requires_grad_(True), rather than torch.tensor(sourceTensor).\n",
            "  t_train = torch.tensor(T[:60000], dtype = torch.float32)\n",
            "<ipython-input-27-fd234ed319a3>:5: UserWarning: To copy construct from a tensor, it is recommended to use sourceTensor.clone().detach() or sourceTensor.clone().detach().requires_grad_(True), rather than torch.tensor(sourceTensor).\n",
            "  x_test = torch.tensor(X[60000:, :]/255, dtype = torch.float32)\n",
            "<ipython-input-27-fd234ed319a3>:6: UserWarning: To copy construct from a tensor, it is recommended to use sourceTensor.clone().detach() or sourceTensor.clone().detach().requires_grad_(True), rather than torch.tensor(sourceTensor).\n",
            "  y_test = torch.tensor(Y[60000:], dtype = torch.float32)\n",
            "<ipython-input-27-fd234ed319a3>:7: UserWarning: To copy construct from a tensor, it is recommended to use sourceTensor.clone().detach() or sourceTensor.clone().detach().requires_grad_(True), rather than torch.tensor(sourceTensor).\n",
            "  t_test = torch.tensor(T[60000:], dtype = torch.float32)\n"
          ]
        }
      ],
      "source": [
        "x_train = torch.tensor(X[:60000, :]/255, dtype = torch.float32)\n",
        "y_train = torch.tensor(Y[:60000], dtype = torch.float32)\n",
        "t_train = torch.tensor(T[:60000], dtype = torch.float32)\n",
        "n=60000\n",
        "x_test = torch.tensor(X[60000:, :]/255, dtype = torch.float32)\n",
        "y_test = torch.tensor(Y[60000:], dtype = torch.float32)\n",
        "t_test = torch.tensor(T[60000:], dtype = torch.float32)"
      ],
      "id": "KeAOZe16MTUG"
    },
    {
      "cell_type": "code",
      "execution_count": null,
      "metadata": {
        "colab": {
          "base_uri": "https://localhost:8080/"
        },
        "id": "7Bcaraqk9hAL",
        "outputId": "4a8312bf-390c-4428-cace-dbd48f7cc350"
      },
      "outputs": [
        {
          "output_type": "execute_result",
          "data": {
            "text/plain": [
              "torch.Size([70000, 784])"
            ]
          },
          "metadata": {},
          "execution_count": 28
        }
      ],
      "source": [
        "X.shape"
      ],
      "id": "7Bcaraqk9hAL"
    },
    {
      "cell_type": "code",
      "execution_count": null,
      "metadata": {
        "id": "0XR9YgM6JYYy"
      },
      "outputs": [],
      "source": [
        "traindata = TensorDataset(x_train, t_train)\n",
        "trainloader=DataLoader(dataset = traindata, batch_size=32, shuffle=True)\n",
        "testdata = TensorDataset(x_test, t_test)\n",
        "testloader=DataLoader(dataset = testdata, batch_size=32, shuffle=True)"
      ],
      "id": "0XR9YgM6JYYy"
    },
    {
      "cell_type": "markdown",
      "source": [
        "We will be using the famous Iris dataset, which contains measurements of the sepal length, sepal width, petal length, and petal width for three species of iris flowers (Iris setosa, Iris versicolor, and Iris virginica). The goal is to predict the species of an iris flower based on these measurements."
      ],
      "metadata": {
        "id": "_dPfo6OoSXGe"
      },
      "id": "_dPfo6OoSXGe"
    },
    {
      "cell_type": "code",
      "source": [
        "from sklearn.datasets import load_iris\n",
        "from sklearn.model_selection import train_test_split\n",
        "\n",
        "# Load the Iris dataset\n",
        "iris = load_iris()\n",
        "\n",
        "# Convert the data to PyTorch tensors\n",
        "X = torch.tensor(iris.data, dtype=torch.float32)[:, :2] #4개 다 쓰면 예측력 너무 좋아서 일부러 두 개만 사용~~\n",
        "y = torch.tensor(iris.target, dtype=torch.long)\n",
        "\n",
        "t = torch.nn.functional.one_hot(torch.tensor(y, dtype=torch.int64), num_classes=3)\n",
        "t = torch.tensor(t, dtype=torch.float32)\n",
        "\n",
        "\n",
        "# Normalize the input data\n",
        "mean = torch.mean(X, dim=0)\n",
        "std = torch.std(X, dim=0)\n",
        "X = (X - mean) / std\n",
        "\n",
        "# Split the dataset into training and validation sets\n",
        "X_train, X_val, t_train, t_val = train_test_split(X, t, test_size=0.2, random_state=42)\n",
        "\n",
        "# Create PyTorch Datasets\n",
        "train_dataset = TensorDataset(X_train, t_train)\n",
        "val_dataset = TensorDataset(X_val, t_val)\n",
        "\n",
        "# Define the data loaders\n",
        "batch_size = 16\n",
        "train_loader = DataLoader(train_dataset, batch_size=batch_size, shuffle=True)\n",
        "test_loader = DataLoader(val_dataset, batch_size=batch_size, shuffle=False)\n"
      ],
      "metadata": {
        "colab": {
          "base_uri": "https://localhost:8080/"
        },
        "id": "Kyo_KXiCSHBM",
        "outputId": "80a2a0d3-075c-4081-9bb3-1144fdebed85"
      },
      "execution_count": null,
      "outputs": [
        {
          "output_type": "stream",
          "name": "stderr",
          "text": [
            "<ipython-input-42-258dd8df59de>:11: UserWarning: To copy construct from a tensor, it is recommended to use sourceTensor.clone().detach() or sourceTensor.clone().detach().requires_grad_(True), rather than torch.tensor(sourceTensor).\n",
            "  t = torch.nn.functional.one_hot(torch.tensor(y, dtype=torch.int64), num_classes=3)\n",
            "<ipython-input-42-258dd8df59de>:12: UserWarning: To copy construct from a tensor, it is recommended to use sourceTensor.clone().detach() or sourceTensor.clone().detach().requires_grad_(True), rather than torch.tensor(sourceTensor).\n",
            "  t = torch.tensor(t, dtype=torch.float32)\n"
          ]
        }
      ],
      "id": "Kyo_KXiCSHBM"
    },
    {
      "cell_type": "code",
      "source": [
        "print(X.shape, t.shape)"
      ],
      "metadata": {
        "colab": {
          "base_uri": "https://localhost:8080/"
        },
        "id": "HERV-N0g-aP5",
        "outputId": "d621103f-99cc-439a-9a4b-9038543269c3"
      },
      "id": "HERV-N0g-aP5",
      "execution_count": null,
      "outputs": [
        {
          "output_type": "stream",
          "name": "stdout",
          "text": [
            "torch.Size([150, 2]) torch.Size([150, 3])\n"
          ]
        }
      ]
    },
    {
      "cell_type": "markdown",
      "source": [
        "## **Exercise 2.3.4** Revisiting Iris data (HW)\n",
        "\n",
        "We use `train_loader` to train the model, and use `test_loader` to calculate the test accuracy. Use the following code to train the model, and calculate the test accuracy. In this case, you need to define your own loss function to calculate cross-entropy function from `q_hat` and `tt`.\n",
        "```\n",
        "z_model = nn.Linear(784, 10, bias=True)\n",
        "```\n",
        "and\n",
        "```\n",
        "for xx, tt in train_loader:\n",
        "  zhat = z_model(xx)\n",
        "  q_hat = torch.softmax()\n",
        "```"
      ],
      "metadata": {
        "id": "a2wB8GZWTAtV"
      },
      "id": "a2wB8GZWTAtV"
    },
    {
      "cell_type": "markdown",
      "source": [
        "### data"
      ],
      "metadata": {
        "id": "PKoxGZoJyecr"
      },
      "id": "PKoxGZoJyecr"
    },
    {
      "cell_type": "code",
      "source": [
        "from sklearn.datasets import load_iris\n",
        "from sklearn.model_selection import train_test_split\n",
        "\n",
        "# Load the Iris dataset\n",
        "iris = load_iris()\n",
        "\n",
        "# Convert the data to PyTorch tensors\n",
        "X = torch.tensor(iris.data, dtype=torch.float32)[:, :2] #4개 다 쓰면 예측력 너무 좋아서 일부러 두 개만 사용~~\n",
        "y = torch.tensor(iris.target, dtype=torch.long)\n",
        "\n",
        "tt = torch.nn.functional.one_hot(torch.tensor(y, dtype=torch.int64), num_classes=3)\n",
        "tt = torch.tensor(tt, dtype=torch.float32)\n",
        "\n",
        "\n",
        "# Normalize the input data\n",
        "mean = torch.mean(X, dim=0)\n",
        "std = torch.std(X, dim=0)\n",
        "X = (X - mean) / std\n",
        "\n",
        "# Split the dataset into training and validation sets\n",
        "X_train, X_val, t_train, t_val = train_test_split(X, tt, test_size=0.2, random_state=42)\n",
        "\n",
        "# Create PyTorch Datasets\n",
        "train_dataset = TensorDataset(X_train, t_train)\n",
        "val_dataset = TensorDataset(X_val, t_val)\n",
        "\n",
        "# Define the data loaders\n",
        "batch_size = 16\n",
        "train_loader = DataLoader(train_dataset, batch_size=batch_size, shuffle=True)\n",
        "test_loader = DataLoader(val_dataset, batch_size=batch_size, shuffle=False)"
      ],
      "metadata": {
        "id": "tup21GadqJSx",
        "colab": {
          "base_uri": "https://localhost:8080/"
        },
        "outputId": "53f1dcaf-a5a0-4197-cad1-e4a0247ff909"
      },
      "id": "tup21GadqJSx",
      "execution_count": null,
      "outputs": [
        {
          "output_type": "stream",
          "name": "stderr",
          "text": [
            "<ipython-input-44-d6f52592bb5e>:11: UserWarning: To copy construct from a tensor, it is recommended to use sourceTensor.clone().detach() or sourceTensor.clone().detach().requires_grad_(True), rather than torch.tensor(sourceTensor).\n",
            "  tt = torch.nn.functional.one_hot(torch.tensor(y, dtype=torch.int64), num_classes=3)\n",
            "<ipython-input-44-d6f52592bb5e>:12: UserWarning: To copy construct from a tensor, it is recommended to use sourceTensor.clone().detach() or sourceTensor.clone().detach().requires_grad_(True), rather than torch.tensor(sourceTensor).\n",
            "  tt = torch.tensor(tt, dtype=torch.float32)\n"
          ]
        }
      ]
    },
    {
      "cell_type": "code",
      "source": [
        "print(X.shape, tt.shape)"
      ],
      "metadata": {
        "colab": {
          "base_uri": "https://localhost:8080/"
        },
        "id": "kNk5osUCynCT",
        "outputId": "fc604442-fde8-437c-8e9d-3d75e5d178f4"
      },
      "id": "kNk5osUCynCT",
      "execution_count": null,
      "outputs": [
        {
          "output_type": "stream",
          "name": "stdout",
          "text": [
            "torch.Size([150, 2]) torch.Size([150, 3])\n"
          ]
        }
      ]
    },
    {
      "cell_type": "markdown",
      "source": [
        "### model"
      ],
      "metadata": {
        "id": "Bf40__IVyheu"
      },
      "id": "Bf40__IVyheu"
    },
    {
      "cell_type": "code",
      "source": [
        "z_model = nn.Linear(2, 3, bias=True) #X:[n, 2] #입력 차원 2, 출력 차원 3\n",
        "\n",
        "def loss_ftc(tt, q_hat):\n",
        "  return -torch.mean(torch.sum(tt * torch.log(q_hat), axis=1)) #cross-entropy function from q_hat and tt\n",
        "\n",
        "epochs = 10000\n",
        "optimizer = torch.optim.SGD(z_model.parameters(), lr=0.1)\n",
        "history = []\n",
        "n_train = len(train_loader.dataset)\n",
        "\n",
        "\n",
        "for epoch in range(epochs):\n",
        "  LOSS = 0\n",
        "  for xx, tt in train_loader:\n",
        "    zhat = z_model(xx)\n",
        "    q_hat = torch.softmax(zhat, axis=1) #확률 변환\n",
        "    loss = loss_ftc(tt, q_hat)\n",
        "    loss.backward()\n",
        "    optimizer.step()\n",
        "    optimizer.zero_grad()\n",
        "    LOSS += loss.item()*len(xx)\n",
        "  history.append(LOSS/n_train)\n",
        "\n",
        "plt.plot(history)"
      ],
      "metadata": {
        "colab": {
          "base_uri": "https://localhost:8080/",
          "height": 449
        },
        "id": "d-axRdelyg9W",
        "outputId": "a489f0cd-0f42-4aed-bd9c-095d747de54a"
      },
      "id": "d-axRdelyg9W",
      "execution_count": null,
      "outputs": [
        {
          "output_type": "execute_result",
          "data": {
            "text/plain": [
              "[<matplotlib.lines.Line2D at 0x7a6a85119660>]"
            ]
          },
          "metadata": {},
          "execution_count": 47
        },
        {
          "output_type": "display_data",
          "data": {
            "text/plain": [
              "<Figure size 640x480 with 1 Axes>"
            ],
            "image/png": "[encoded data removed]"
          },
          "metadata": {}
        }
      ]
    },
    {
      "cell_type": "markdown",
      "source": [
        "### test accuracy 계산"
      ],
      "metadata": {
        "id": "dYmQ6YEA5pqZ"
      },
      "id": "dYmQ6YEA5pqZ"
    },
    {
      "cell_type": "code",
      "source": [
        "Correct = 0\n",
        "n_test = len(test_loader.dataset)\n",
        "\n",
        "for xx, tt in test_loader:\n",
        "  zhat = z_model(xx)\n",
        "  q_hat = torch.softmax(zhat, axis=1) #[n, 3]\n",
        "  yhat = torch.argmax(q_hat, axis=1) #예측값\n",
        "  y = torch.argmax(tt, axis=1) #실제값\n",
        "  correct = torch.sum((yhat == y)*1.0).item() #batch러닝이므로 mean말고 sum으로 정답 개수 파악\n",
        "  Correct +=correct\n",
        "\n",
        "Correct/n_test #정확도 계산"
      ],
      "metadata": {
        "colab": {
          "base_uri": "https://localhost:8080/"
        },
        "id": "ohOb2KN55sV-",
        "outputId": "5cdc74d8-0e0e-4733-d807-58d44a315869"
      },
      "id": "ohOb2KN55sV-",
      "execution_count": null,
      "outputs": [
        {
          "output_type": "execute_result",
          "data": {
            "text/plain": [
              "0.9"
            ]
          },
          "metadata": {},
          "execution_count": 48
        }
      ]
    },
    {
      "cell_type": "markdown",
      "source": [
        "정확도는 0.9이다."
      ],
      "metadata": {
        "id": "GEeX1R90ImXn"
      },
      "id": "GEeX1R90ImXn"
    },
    {
      "cell_type": "markdown",
      "source": [
        "### 설명변수 모두 사용한 경우 -> accuracy : 1.0"
      ],
      "metadata": {
        "id": "o9fWDKNW6pDt"
      },
      "id": "o9fWDKNW6pDt"
    },
    {
      "cell_type": "code",
      "source": [
        "from sklearn.datasets import load_iris\n",
        "from sklearn.model_selection import train_test_split\n",
        "\n",
        "# Load the Iris dataset\n",
        "iris = load_iris()\n",
        "\n",
        "# Convert the data to PyTorch tensors\n",
        "X = torch.tensor(iris.data, dtype=torch.float32)\n",
        "y = torch.tensor(iris.target, dtype=torch.long)\n",
        "\n",
        "tt = torch.nn.functional.one_hot(torch.tensor(y, dtype=torch.int64), num_classes=3)\n",
        "tt = torch.tensor(tt, dtype=torch.float32)\n",
        "\n",
        "\n",
        "# Normalize the input data\n",
        "mean = torch.mean(X, dim=0)\n",
        "std = torch.std(X, dim=0)\n",
        "X = (X - mean) / std\n",
        "\n",
        "# Split the dataset into training and validation sets\n",
        "X_train, X_val, t_train, t_val = train_test_split(X, tt, test_size=0.2, random_state=42)\n",
        "\n",
        "# Create PyTorch Datasets\n",
        "train_dataset = TensorDataset(X_train, t_train)\n",
        "val_dataset = TensorDataset(X_val, t_val)\n",
        "\n",
        "# Define the data loaders\n",
        "batch_size = 16\n",
        "train_loader = DataLoader(train_dataset, batch_size=batch_size, shuffle=True)\n",
        "test_loader = DataLoader(val_dataset, batch_size=batch_size, shuffle=False)"
      ],
      "metadata": {
        "colab": {
          "base_uri": "https://localhost:8080/"
        },
        "id": "TsJOM53U6tnC",
        "outputId": "5804bd38-f628-4b0a-b76f-1270b0d87df2"
      },
      "id": "TsJOM53U6tnC",
      "execution_count": null,
      "outputs": [
        {
          "output_type": "stream",
          "name": "stderr",
          "text": [
            "<ipython-input-49-8880a9556188>:11: UserWarning: To copy construct from a tensor, it is recommended to use sourceTensor.clone().detach() or sourceTensor.clone().detach().requires_grad_(True), rather than torch.tensor(sourceTensor).\n",
            "  tt = torch.nn.functional.one_hot(torch.tensor(y, dtype=torch.int64), num_classes=3)\n",
            "<ipython-input-49-8880a9556188>:12: UserWarning: To copy construct from a tensor, it is recommended to use sourceTensor.clone().detach() or sourceTensor.clone().detach().requires_grad_(True), rather than torch.tensor(sourceTensor).\n",
            "  tt = torch.tensor(tt, dtype=torch.float32)\n"
          ]
        }
      ]
    },
    {
      "cell_type": "code",
      "source": [
        "print(X.shape, tt.shape)"
      ],
      "metadata": {
        "colab": {
          "base_uri": "https://localhost:8080/"
        },
        "id": "R90tS0vK6xLT",
        "outputId": "87d0dcf9-397e-47ac-a8a1-0be03b6bedef"
      },
      "id": "R90tS0vK6xLT",
      "execution_count": null,
      "outputs": [
        {
          "output_type": "stream",
          "name": "stdout",
          "text": [
            "torch.Size([150, 4]) torch.Size([150, 3])\n"
          ]
        }
      ]
    },
    {
      "cell_type": "code",
      "source": [
        "z_model = nn.Linear(4, 3, bias=True) #입력 차원 4, 출력 차원 3\n",
        "\n",
        "def loss_ftc(tt, q_hat):\n",
        "  return -torch.mean(torch.sum(tt * torch.log(q_hat), axis=1)) #cross-entropy function from q_hat and tt\n",
        "\n",
        "epochs = 10000\n",
        "optimizer = torch.optim.SGD(z_model.parameters(), lr=0.1)\n",
        "history = []\n",
        "n_train = len(train_loader.dataset)\n",
        "\n",
        "\n",
        "for epoch in range(epochs):\n",
        "  LOSS = 0\n",
        "  for xx, tt in train_loader:\n",
        "    zhat = z_model(xx)\n",
        "    q_hat = torch.softmax(zhat, axis=1) #확률 변환\n",
        "    loss = loss_ftc(tt, q_hat)\n",
        "    loss.backward()\n",
        "    optimizer.step()\n",
        "    optimizer.zero_grad()\n",
        "    LOSS += loss.item()*len(xx)\n",
        "  history.append(LOSS/n_train)\n",
        "\n",
        "plt.plot(history)"
      ],
      "metadata": {
        "colab": {
          "base_uri": "https://localhost:8080/",
          "height": 448
        },
        "id": "fIFzH_cS60YR",
        "outputId": "dabb37bf-3b5b-4f1c-dbc8-312c4bb6b25f"
      },
      "id": "fIFzH_cS60YR",
      "execution_count": null,
      "outputs": [
        {
          "output_type": "execute_result",
          "data": {
            "text/plain": [
              "[<matplotlib.lines.Line2D at 0x7a6a84d3c100>]"
            ]
          },
          "metadata": {},
          "execution_count": 51
        },
        {
          "output_type": "display_data",
          "data": {
            "text/plain": [
              "<Figure size 640x480 with 1 Axes>"
            ],
            "image/png": "[encoded data removed]"
          },
          "metadata": {}
        }
      ]
    },
    {
      "cell_type": "code",
      "source": [
        "Correct = 0\n",
        "n_test = len(test_loader.dataset)\n",
        "\n",
        "for xx, tt in test_loader:\n",
        "  zhat = z_model(xx)\n",
        "  q_hat = torch.softmax(zhat, axis=1)\n",
        "  yhat = torch.argmax(q_hat, axis=1) #예측값\n",
        "  y = torch.argmax(tt, axis=1) #실제값\n",
        "  correct = torch.sum((yhat == y)*1.0).item() #batch러닝이므로 mean말고 sum으로 정답 개수 파악\n",
        "  Correct +=correct\n",
        "\n",
        "Correct/n_test #정확도 계산"
      ],
      "metadata": {
        "colab": {
          "base_uri": "https://localhost:8080/"
        },
        "id": "BvLmgGVw63kE",
        "outputId": "e134db30-3464-404e-b05c-aee8c5c9dd29"
      },
      "id": "BvLmgGVw63kE",
      "execution_count": null,
      "outputs": [
        {
          "output_type": "execute_result",
          "data": {
            "text/plain": [
              "1.0"
            ]
          },
          "metadata": {},
          "execution_count": 52
        }
      ]
    },
    {
      "cell_type": "markdown",
      "metadata": {
        "id": "6MMnjhQOPR-2"
      },
      "source": [
        "## **Exercise 2.3.5**: Fashion MNIST data (HW)"
      ],
      "id": "6MMnjhQOPR-2"
    },
    {
      "cell_type": "markdown",
      "metadata": {
        "id": "Q0wBOhSpRP6A"
      },
      "source": [
        "You are given the following fashion MNIST data. Do the multinomial regression so that the regression machine can determine the label from the images. Calculate the test accuracy. In the test dataset, identify at least 5 cases where your predictions are wrong, and explain why possibly they were mis-classified.\n",
        "\n",
        "1. the picture\n",
        "\n",
        "2. predicted label\n",
        "\n",
        "3. real label\n",
        "\n",
        "4. Explain the possible reason why your model is wrong in this case."
      ],
      "id": "Q0wBOhSpRP6A"
    },
    {
      "cell_type": "markdown",
      "source": [
        "Hint: Each training and test example is assigned to one of the following labels:\n",
        "\n",
        "0 T-shirt/top\n",
        "\n",
        "1 Trouser\n",
        "\n",
        "2 Pullover\n",
        "\n",
        "3 Dress\n",
        "\n",
        "4 Coat\n",
        "\n",
        "5 Sandal\n",
        "\n",
        "6 Shirt\n",
        "\n",
        "7 Sneaker\n",
        "\n",
        "8 Bag\n",
        "\n",
        "9 Ankle boot"
      ],
      "metadata": {
        "id": "f0332X2pWmn0"
      },
      "id": "f0332X2pWmn0"
    },
    {
      "cell_type": "code",
      "execution_count": null,
      "metadata": {
        "id": "E-OllAGT6pr-"
      },
      "outputs": [],
      "source": [
        "import torch\n",
        "from torch import nn, optim\n",
        "import torch.nn.functional as F\n",
        "from torch.utils.data import DataLoader\n",
        "from torchvision import datasets, transforms"
      ],
      "id": "E-OllAGT6pr-"
    },
    {
      "cell_type": "code",
      "execution_count": null,
      "metadata": {
        "id": "Y2dqyxnr6psU"
      },
      "outputs": [],
      "source": [
        "# transform to normalize the data\n",
        "transform = transforms.Compose([transforms.ToTensor(),\n",
        "                                transforms.Normalize((0.5,), (0.5,))])\n",
        "\n",
        "# Download and load the training data\n",
        "trainset = datasets.FashionMNIST('./data', download=True, train=True, transform=transform)\n",
        "train_loader = DataLoader(trainset, batch_size=64, shuffle=True)\n",
        "\n",
        "# Download and load the test data\n",
        "validationset = datasets.FashionMNIST('./data', download=True, train=False, transform=transform)\n",
        "test_loader = DataLoader(validationset, batch_size=64, shuffle=True)"
      ],
      "id": "Y2dqyxnr6psU"
    },
    {
      "cell_type": "code",
      "source": [
        "xx, yy = trainset[0]"
      ],
      "metadata": {
        "id": "fH_-sM1iXlj4"
      },
      "execution_count": null,
      "outputs": [],
      "id": "fH_-sM1iXlj4"
    },
    {
      "cell_type": "code",
      "source": [
        "plt.imshow(xx.reshape(28,28))\n",
        "my_name = { 0: \"T-shirt/top\", 1: \"Trouser\",\n",
        "              2: \"Pullover\", 3: \"Dress\", 4: \"Coat\", 5: \"Sandal\", 6: \"Shirt\", 7: \"Sneaker\", 8: \"Bag\", 9: \"Ankle boot\"}\n",
        "print(my_name[yy])"
      ],
      "metadata": {
        "colab": {
          "base_uri": "https://localhost:8080/",
          "height": 448
        },
        "id": "PEu4G4HsXug4",
        "outputId": "a36e616d-8b93-489c-c32d-b3fd4e4a777e"
      },
      "execution_count": null,
      "outputs": [
        {
          "output_type": "stream",
          "name": "stdout",
          "text": [
            "Ankle boot\n"
          ]
        },
        {
          "output_type": "display_data",
          "data": {
            "text/plain": [
              "<Figure size 640x480 with 1 Axes>"
            ],
            "image/png": "[encoded data removed]"
          },
          "metadata": {}
        }
      ],
      "id": "PEu4G4HsXug4"
    },
    {
      "cell_type": "markdown",
      "source": [
        "### model"
      ],
      "metadata": {
        "id": "C1mkE1Zi72PR"
      },
      "id": "C1mkE1Zi72PR"
    },
    {
      "cell_type": "code",
      "source": [
        "z_model = nn.Linear(28*28, 10, bias=True)  # 입력 크기: 28x28=784, 출력 크기: 10\n",
        "\n",
        "def loss_ftc(t, q_hat):\n",
        "    return -torch.mean(torch.sum(t * torch.log(q_hat), axis=1))\n",
        "\n",
        "optimizer = optim.SGD(z_model.parameters(), lr=0.1)\n",
        "\n",
        "epochs = 30\n",
        "history = []\n",
        "n_train = len(train_loader.dataset)\n",
        "\n",
        "for epoch in range(epochs):\n",
        "    LOSS = 0\n",
        "    for xx, tt in train_loader:\n",
        "        xx = xx.view(-1, 28 * 28)  # 2D 이미지를 1D 벡터로 변환\n",
        "        zhat = z_model(xx)\n",
        "        q_hat = torch.softmax(zhat, axis=1)   # softmax로 확률 계산\n",
        "        tt_onehot = torch.nn.functional.one_hot(tt, num_classes=10) # 원핫인코딩으로 변환\n",
        "        loss = loss_ftc(tt_onehot, q_hat)\n",
        "        loss.backward()\n",
        "        optimizer.step()\n",
        "        optimizer.zero_grad()\n",
        "        LOSS += loss.item() * len(xx)\n",
        "    history.append(LOSS / n_train)\n",
        "\n",
        "plt.plot(history)"
      ],
      "metadata": {
        "colab": {
          "base_uri": "https://localhost:8080/",
          "height": 448
        },
        "id": "rK74jz3U78Im",
        "outputId": "a268d493-3a2d-4d2d-f850-b49828c481e3"
      },
      "id": "rK74jz3U78Im",
      "execution_count": null,
      "outputs": [
        {
          "output_type": "execute_result",
          "data": {
            "text/plain": [
              "[<matplotlib.lines.Line2D at 0x7a6a83f307c0>]"
            ]
          },
          "metadata": {},
          "execution_count": 68
        },
        {
          "output_type": "display_data",
          "data": {
            "text/plain": [
              "<Figure size 640x480 with 1 Axes>"
            ],
            "image/png": "[encoded data removed]"
          },
          "metadata": {}
        }
      ]
    },
    {
      "cell_type": "markdown",
      "source": [
        "### test accuracy"
      ],
      "metadata": {
        "id": "yBzjiBpcAvs5"
      },
      "id": "yBzjiBpcAvs5"
    },
    {
      "cell_type": "code",
      "source": [
        "Correct = 0\n",
        "n_test = len(test_loader.dataset)\n",
        "\n",
        "for xx, tt in test_loader:\n",
        "  xx = xx.view(-1, 28 * 28)\n",
        "  zhat = z_model(xx)  # 모델 출력\n",
        "  q_hat = torch.softmax(zhat, axis=1)\n",
        "  yhat = torch.argmax(q_hat, axis=1) #예측값\n",
        "  correct = torch.sum((yhat == tt)*1.0).item() #원-핫 인코딩 전의 tt(실제 클래스가 정수형이기에 바로 비교 가능)와 비교하여 정확도 계산\n",
        "  Correct +=correct\n",
        "\n",
        "Correct/n_test #정확도 계산"
      ],
      "metadata": {
        "colab": {
          "base_uri": "https://localhost:8080/"
        },
        "id": "gRd3PlCcAuzB",
        "outputId": "f326ad14-d939-4a36-ea8b-eb2adff08ca1"
      },
      "id": "gRd3PlCcAuzB",
      "execution_count": null,
      "outputs": [
        {
          "output_type": "execute_result",
          "data": {
            "text/plain": [
              "0.8315"
            ]
          },
          "metadata": {},
          "execution_count": 69
        }
      ]
    },
    {
      "cell_type": "markdown",
      "source": [
        "정확도는 0.8315이다."
      ],
      "metadata": {
        "id": "5k80alQRH5vO"
      },
      "id": "5k80alQRH5vO"
    },
    {
      "cell_type": "markdown",
      "source": [
        "### 오분류 사례"
      ],
      "metadata": {
        "id": "mJQtzIpSBeid"
      },
      "id": "mJQtzIpSBeid"
    },
    {
      "cell_type": "code",
      "source": [
        "misclassified = [] #오분류 사례 저장할 리스트 생성\n",
        "\n",
        "for xx, tt in test_loader:\n",
        "  xx = xx.view(-1, 28 * 28)\n",
        "  zhat = z_model(xx)\n",
        "  q_hat = torch.softmax(zhat, axis=1)\n",
        "  yhat = torch.argmax(q_hat, axis=1)\n",
        "  mis_idx = (yhat != tt).nonzero(as_tuple=True)[0] #예측값과 실제값 다른 인덱스를 가져옴\n",
        "  #오분류된 사례의 xx, yhat, tt를 모두 misclassified에 저장\n",
        "  for idx in mis_idx:\n",
        "            misclassified.append((xx[idx], yhat[idx].item(), tt[idx].item()))\n",
        "\n",
        "my_name = {0: \"T-shirt/top\", 1: \"Trouser\", 2: \"Pullover\", 3: \"Dress\", 4: \"Coat\",\n",
        "           5: \"Sandal\", 6: \"Shirt\", 7: \"Sneaker\", 8: \"Bag\", 9: \"Ankle boot\"}\n",
        "\n",
        "for i, (img, pred, true) in enumerate(misclassified[:5]):  # 첫 5개만 확인\n",
        "    plt.imshow(img.view(28, 28)) #1D 벡터를 2D 이미지로 복원\n",
        "    plt.title(f\"Pred: {my_name[pred]}\\nTrue: {my_name[true]}\") #예측된 종류와 실제 종류 함께 출력\n",
        "    plt.show()"
      ],
      "metadata": {
        "colab": {
          "base_uri": "https://localhost:8080/",
          "height": 2297
        },
        "id": "K91E15lxBjHa",
        "outputId": "09c0f8cb-47f9-42cf-8353-0c548e5d6cff"
      },
      "id": "K91E15lxBjHa",
      "execution_count": null,
      "outputs": [
        {
          "output_type": "display_data",
          "data": {
            "text/plain": [
              "<Figure size 640x480 with 1 Axes>"
            ],
            "image/png": "[encoded data removed]"
          },
          "metadata": {}
        },
        {
          "output_type": "display_data",
          "data": {
            "text/plain": [
              "<Figure size 640x480 with 1 Axes>"
            ],
            "image/png": "[encoded data removed]"
          },
          "metadata": {}
        },
        {
          "output_type": "display_data",
          "data": {
            "text/plain": [
              "<Figure size 640x480 with 1 Axes>"
            ],
            "image/png": "[encoded data removed]"
          },
          "metadata": {}
        },
        {
          "output_type": "display_data",
          "data": {
            "text/plain": [
              "<Figure size 640x480 with 1 Axes>"
            ],
            "image/png": "[encoded data removed]"
          },
          "metadata": {}
        },
        {
          "output_type": "display_data",
          "data": {
            "text/plain": [
              "<Figure size 640x480 with 1 Axes>"
            ],
            "image/png": "[encoded data removed]"
          },
          "metadata": {}
        }
      ]
    },
    {
      "cell_type": "markdown",
      "source": [
        "**explain why possibly they were mis-classified**\n",
        "\n",
        "\n",
        "오분류된 이미지를 보면, 해상도가 낮아 형태 구분이 어려운 경우가 있다. 특히 스니커즈의 발등 부분이나 셔츠의 허리선 등이 명확하게 드러나지 않는 것을 통해, 중요한 특징이 손실되거나 왜곡되어 분류 오류가 발생했음을 유추해 볼 수 있다.\n",
        "\n",
        "또한, 학습률이 오분류 이미지의 원인일 수도 있다. 설정했던 학습률 0.1이 너무 컸다면 모델이 최적값에 도달하지 못하고 진동했을 것인데, 이로 인해 모델 정확도가 떨어지면서 오분류 사례가 일어났을 수 있다.\n",
        "\n",
        "혹은 일부 클래스가 학습 데이터에 너무 적게 등장하는 등 학습 데이터의 클래스 불균형이 원인일 수도 있다. 예를 들어, 만약 train_loader에 \"Sneaker\"와 \"Sandal\" 클래스가 너무 적은 비율로 존재했다면, 모델은 해당 클래스를 충분히 학습하지 못해 오분류로 이어졌을 수 있다.\n",
        "\n"
      ],
      "metadata": {
        "id": "OY9ZwM66Gagv"
      },
      "id": "OY9ZwM66Gagv"
    }
  ],
  "metadata": {
    "accelerator": "GPU",
    "colab": {
      "machine_shape": "hm",
      "provenance": []
    },
    "kernelspec": {
      "display_name": "Python 3",
      "name": "python3"
    },
    "language_info": {
      "name": "python"
    }
  },
  "nbformat": 4,
  "nbformat_minor": 5
}